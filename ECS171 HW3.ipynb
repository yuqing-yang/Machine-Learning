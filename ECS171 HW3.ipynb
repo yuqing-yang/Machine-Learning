{
 "cells": [
  {
   "cell_type": "markdown",
   "metadata": {},
   "source": [
    "## ECS171 HW3"
   ]
  },
  {
   "cell_type": "code",
   "execution_count": 1,
   "metadata": {},
   "outputs": [],
   "source": [
    "import pandas as pd\n",
    "import numpy as np\n",
    "import matplotlib.pyplot as plt\n",
    "from sklearn.preprocessing import StandardScaler, label_binarize, LabelBinarizer, OneHotEncoder\n",
    "from sklearn.linear_model import Lasso\n",
    "from sklearn.pipeline import Pipeline\n",
    "from sklearn.model_selection import RandomizedSearchCV, StratifiedKFold, cross_val_score\n",
    "from sklearn.metrics import roc_curve, auc, precision_recall_curve, average_precision_score, roc_auc_score, confusion_matrix"
   ]
  },
  {
   "cell_type": "code",
   "execution_count": 2,
   "metadata": {},
   "outputs": [],
   "source": [
    "import scipy.stats as ss\n",
    "from scipy import interp"
   ]
  },
  {
   "cell_type": "code",
   "execution_count": 3,
   "metadata": {},
   "outputs": [],
   "source": [
    "from sklearn.metrics import mean_squared_error, classification_report\n",
    "from sklearn.svm import SVC, LinearSVC\n",
    "from sklearn.multiclass import OneVsRestClassifier\n",
    "from sklearn.multioutput import MultiOutputClassifier\n",
    "from sklearn.decomposition import PCA\n",
    "from sklearn.manifold import TSNE"
   ]
  },
  {
   "cell_type": "code",
   "execution_count": 4,
   "metadata": {},
   "outputs": [],
   "source": [
    "import warnings\n",
    "warnings.filterwarnings(\"ignore\")"
   ]
  },
  {
   "cell_type": "markdown",
   "metadata": {},
   "source": [
    "### Load the dataset"
   ]
  },
  {
   "cell_type": "markdown",
   "metadata": {},
   "source": [
    "The dataset contains 194 samples with 4502 featuers. The first 6 corresponding to gene ID, strain, medium, environmental perturbation (stresses present in the environment), gene perturbation, and growth rate. The rest corresponding to the expression of all genes in the bacterium. \n",
    "\n",
    "The dataset does not contain missing values except for the feature gene expression of b4635. There are only 114 samples have valid values for the feature b4635."
   ]
  },
  {
   "cell_type": "code",
   "execution_count": 5,
   "metadata": {},
   "outputs": [],
   "source": [
    "data = pd.read_csv('G:/ecs171/hw3/2019_ECS_171_HW3_Files/ecs171.dataset.txt', sep = '\\s+')"
   ]
  },
  {
   "cell_type": "code",
   "execution_count": 6,
   "metadata": {},
   "outputs": [
    {
     "data": {
      "text/plain": [
       "(194, 4502)"
      ]
     },
     "execution_count": 6,
     "metadata": {},
     "output_type": "execute_result"
    }
   ],
   "source": [
    "data.shape"
   ]
  },
  {
   "cell_type": "code",
   "execution_count": 8,
   "metadata": {},
   "outputs": [
    {
     "name": "stdout",
     "output_type": "stream",
     "text": [
      "<class 'pandas.core.frame.DataFrame'>\n",
      "RangeIndex: 194 entries, 0 to 193\n",
      "Columns: 4502 entries, ID to b4635\n",
      "dtypes: float64(4435), int64(61), object(6)\n",
      "memory usage: 6.7+ MB\n"
     ]
    }
   ],
   "source": [
    "data.info()"
   ]
  },
  {
   "cell_type": "code",
   "execution_count": 9,
   "metadata": {},
   "outputs": [
    {
     "data": {
      "text/plain": [
       "b4635    True\n",
       "dtype: bool"
      ]
     },
     "execution_count": 9,
     "metadata": {},
     "output_type": "execute_result"
    }
   ],
   "source": [
    "check = data.isna().any()\n",
    "check[check == True]"
   ]
  },
  {
   "cell_type": "code",
   "execution_count": 10,
   "metadata": {},
   "outputs": [
    {
     "data": {
      "text/plain": [
       "114"
      ]
     },
     "execution_count": 10,
     "metadata": {},
     "output_type": "execute_result"
    }
   ],
   "source": [
    "sum(data.iloc[:,4501].str.isdigit() == True)"
   ]
  },
  {
   "cell_type": "markdown",
   "metadata": {},
   "source": [
    "### P1. Predict the bacterial growth"
   ]
  },
  {
   "cell_type": "markdown",
   "metadata": {},
   "source": [
    "Lasso is a linear regression model that attempt to minimize RSS with the $l_1$ penalty added. The penalty is a tuning hyperparameter multiplied by the sum of the abosolute value of all coefficients. Lasso would shrink the model for that it prefer solution with fewer non-zero coefficients, which makes the model more interpretable.\n",
    "\n",
    "The formula is presented as below:\n",
    "\n",
    "$RSS = \\sum_{i=1}^n(y_i-\\hat y_i)^2$\n",
    "\n",
    "$\\frac{1}{2n}RSS + \\alpha\\sum_{j=1}^p|\\hat\\beta_j|,$\n",
    "\n",
    "where n is the number of observations, p is the number of features, $\\beta_j$ is the coefficient of the jth of p features, and $\\alpha$ is the tuning hyperparameter."
   ]
  },
  {
   "cell_type": "markdown",
   "metadata": {},
   "source": [
    "Considering that the dataset has only 194 samples, but more than 4000 features, I choose Lasso to shrink the model. \n",
    "\n",
    "Lasso was used to predict the bacterial growth(y). \n",
    "\n",
    "Pipeline was used for the standardization of expression of the genes(X). \n",
    "\n",
    "I use randomized search to find out the optimal parameter value by 5-fold cross-validation. The parameter was randomly sample with replacement from uniform distribution U\\[0.01, 2\\] for 1000 times. According to the randomized search results, the optimal parameter is 0.01459365815622359. \n",
    "\n",
    "Then I use the optimal parameter to retrain the Lasso model. The Lasso model have 59 non-zero coefficients, and the mean MSE of 5-fold cross-validation is 0.045294909677612676."
   ]
  },
  {
   "cell_type": "code",
   "execution_count": 11,
   "metadata": {},
   "outputs": [],
   "source": [
    "X = data.iloc[:,6:4501]"
   ]
  },
  {
   "cell_type": "code",
   "execution_count": 12,
   "metadata": {},
   "outputs": [],
   "source": [
    "y = data['GrowthRate']"
   ]
  },
  {
   "cell_type": "code",
   "execution_count": 13,
   "metadata": {},
   "outputs": [],
   "source": [
    "pipe = Pipeline([('std', StandardScaler()),('regr', Lasso())])\n",
    "\n",
    "search_space = {'regr':[Lasso()], 'std':[StandardScaler(), None], 'regr__alpha':ss.uniform(0.01,2)}\n",
    "\n",
    "rs = RandomizedSearchCV(pipe, param_distributions=search_space , cv=5, scoring='neg_mean_squared_error',random_state=1, n_iter=1000, n_jobs=-1)\n",
    "\n",
    "best_model = rs.fit(X,y)"
   ]
  },
  {
   "cell_type": "code",
   "execution_count": 14,
   "metadata": {},
   "outputs": [],
   "source": [
    "alpha_best = best_model.best_params_['regr__alpha']"
   ]
  },
  {
   "cell_type": "code",
   "execution_count": 15,
   "metadata": {},
   "outputs": [],
   "source": [
    "regr_best = Lasso(alpha=alpha_best)"
   ]
  },
  {
   "cell_type": "code",
   "execution_count": 16,
   "metadata": {},
   "outputs": [],
   "source": [
    "std = StandardScaler()\n",
    "X_std = std.fit_transform(X)"
   ]
  },
  {
   "cell_type": "code",
   "execution_count": 17,
   "metadata": {},
   "outputs": [
    {
     "data": {
      "text/plain": [
       "Lasso(alpha=0.01459365815622359, copy_X=True, fit_intercept=True, max_iter=1000,\n",
       "      normalize=False, positive=False, precompute=False, random_state=None,\n",
       "      selection='cyclic', tol=0.0001, warm_start=False)"
      ]
     },
     "execution_count": 17,
     "metadata": {},
     "output_type": "execute_result"
    }
   ],
   "source": [
    "regr_best.fit(X_std,y)"
   ]
  },
  {
   "cell_type": "code",
   "execution_count": 18,
   "metadata": {},
   "outputs": [
    {
     "name": "stdout",
     "output_type": "stream",
     "text": [
      "Number of features: 59\n"
     ]
    }
   ],
   "source": [
    "print('Number of features:', sum(regr_best.coef_!=0))"
   ]
  },
  {
   "cell_type": "code",
   "execution_count": 19,
   "metadata": {},
   "outputs": [],
   "source": [
    "pipe2 = Pipeline([('std', StandardScaler()),('regr', Lasso(alpha = alpha_best))])"
   ]
  },
  {
   "cell_type": "code",
   "execution_count": 20,
   "metadata": {},
   "outputs": [
    {
     "name": "stdout",
     "output_type": "stream",
     "text": [
      "Generalization error: 0.045294909677612676\n"
     ]
    }
   ],
   "source": [
    "print('Generalization error:', -cross_val_score(pipe2, X, y, cv = 5, scoring = 'neg_mean_squared_error').mean())"
   ]
  },
  {
   "cell_type": "markdown",
   "metadata": {},
   "source": [
    "### P2. Confidence interval of the prediction"
   ]
  },
  {
   "cell_type": "markdown",
   "metadata": {},
   "source": [
    "Bootstrap method was used to produce the confidence interval of the predicition.\n",
    "\n",
    "Bootstrap is a resampling method to estimate a population parameter $\\theta$. Given a sample dataset with size n, we could draw a sample from the original sample dataset with replacement, and replicate B times. For each bootstrap sample i, we could get a statistic to estimate the parameter, denote as $\\theta_i^*$. \n",
    "\n",
    "By the Central Limit Theorem, the resampling distribution of the differnce in means approaches a normal distribution when B is large. \n",
    "\n",
    "Assuming that these B statistics follow a t-distribution, we could then get a 100(1-$\\alpha$)% confidence interval for the estimate $\\hat{\\theta}$:\n",
    "\n",
    "$(\\bar{\\theta^*} \\pm t_{(1-\\alpha/2, B-1)} * std(\\theta^*)$)"
   ]
  },
  {
   "cell_type": "code",
   "execution_count": 21,
   "metadata": {},
   "outputs": [],
   "source": [
    "def bootstrap(B, newdata, n):\n",
    "    \"\"\" Bootstrap function to report the confidence interval of the predicition\n",
    "\n",
    "    Args:\n",
    "        param1: The number of resampling times.\n",
    "        param2: The data to be predicted.\n",
    "        param3: The sample size of the original dataset.\n",
    "        \n",
    "    Returns:\n",
    "        The lower bound and the upper bound of the 95% confidence interval.\n",
    "\n",
    "    \"\"\"\n",
    "    pred = []\n",
    "    for i in range(B):\n",
    "        samp = np.random.choice(194, size = n)\n",
    "        sub_X = data.iloc[samp, 6:4501]\n",
    "        sub_y = data.iloc[samp, 5]\n",
    "        \n",
    "        pipe2.fit(sub_X, sub_y)\n",
    "        pred.append(pipe2.predict(newdata))\n",
    "    \n",
    "    pred = np.array(pred)\n",
    "    qt = ss.t.ppf(q = 0.975, df = B)\n",
    "    \n",
    "    LB = pred.mean() - qt * pred.std(ddof = 1)\n",
    "    UB = pred.mean() + qt * pred.std(ddof = 1)\n",
    "    \n",
    "    return (LB, UB)"
   ]
  },
  {
   "cell_type": "markdown",
   "metadata": {},
   "source": [
    "### P3. Confidence interval of the prediction for a specific bacterium"
   ]
  },
  {
   "cell_type": "markdown",
   "metadata": {},
   "source": [
    "To find the confidence interval of predicted growth for a bacterium whose genes are expressed exactly at the mean expression value. \n",
    "\n",
    "Here I set the number of bootstrap sampels(B) to 1000."
   ]
  },
  {
   "cell_type": "code",
   "execution_count": 22,
   "metadata": {},
   "outputs": [],
   "source": [
    "newdata = data.iloc[:, 6:4501].mean(axis = 0)\n",
    "newdata = np.array(newdata).reshape(1,-1)"
   ]
  },
  {
   "cell_type": "code",
   "execution_count": 23,
   "metadata": {},
   "outputs": [
    {
     "name": "stdout",
     "output_type": "stream",
     "text": [
      "95% C.I.: (0.3826273522089719, 0.4163851915581527)\n"
     ]
    }
   ],
   "source": [
    "B = 1000\n",
    "print('95% C.I.:', bootstrap(B, newdata, len(data)))"
   ]
  },
  {
   "cell_type": "markdown",
   "metadata": {},
   "source": [
    "### P4. SVM classifiers using feature selection"
   ]
  },
  {
   "cell_type": "markdown",
   "metadata": {},
   "source": [
    "Four seperate SVM classifiers was created to categorize the strain type('Strain'), medium type('Medium'), environmental('Stress') and gene perturbation('GenePerturbed'). Here I only use features that have non-zero coefficients in the optimal Lasso model created in P1. So each classifier has the same 59 features.\n",
    "\n",
    "The 5-fold cross-validation results were shown as below. Since we have imbalanced data, I use stratified K-fold to roughly keep the same percentage of observation from each of the different target classes in folds. "
   ]
  },
  {
   "cell_type": "code",
   "execution_count": 24,
   "metadata": {},
   "outputs": [],
   "source": [
    "none_zero = list(regr_best.coef_!=0)"
   ]
  },
  {
   "cell_type": "code",
   "execution_count": 25,
   "metadata": {},
   "outputs": [],
   "source": [
    "none_zero_X = X.T[none_zero].T"
   ]
  },
  {
   "cell_type": "code",
   "execution_count": 26,
   "metadata": {},
   "outputs": [],
   "source": [
    "def svm_cv(X, y, cv, name = '', plot_curve_ = False):   \n",
    "    \"\"\" Create SVM classifier for multiclass dataset, report 10-fold cross-validation AUC/AUPRC.\n",
    "        Plot roc curve and precision-recall curve if needed.\n",
    "\n",
    "    Args:\n",
    "        param1: Features\n",
    "        param2: Target\n",
    "        param3: Name of target\n",
    "        param4: Whether to plot roc curve and precision-recall curve \n",
    "        \n",
    "    Returns:\n",
    "        Target in binarized form\n",
    "        The decision function for the samples\n",
    "        LabelBinarizer\n",
    "        \n",
    "    \"\"\"\n",
    "    lb = LabelBinarizer()\n",
    "    binary_y = lb.fit_transform(y)\n",
    "    \n",
    "    n_classes = binary_y.shape[1]\n",
    "    \n",
    "    probas = np.zeros((binary_y.shape[0],binary_y.shape[1]))\n",
    "    #pred = np.zeros((binary_y.shape[0],binary_y.shape[1]))\n",
    "    \n",
    "    cv_ = StratifiedKFold(n_splits = cv, random_state = 1)\n",
    "    clf = OneVsRestClassifier(SVC(gamma = 'scale', probability=True, random_state= 12))\n",
    "    \n",
    "    fpr = {}\n",
    "    tpr = {}\n",
    "    roc_auc = {}\n",
    "    \n",
    "    precision = {}\n",
    "    recall = {}\n",
    "    auprc = {}\n",
    "\n",
    "    for train, test in cv_.split(X, y):\n",
    "        clf.fit(X.iloc[train,], binary_y[train,:])\n",
    "        probas[test,] = clf.decision_function(X.iloc[test,])\n",
    "        #pred[test,] = clf.predict(X.iloc[test,])\n",
    "        \n",
    "    for i in range(n_classes):\n",
    "        fpr[i], tpr[i], _ = roc_curve(binary_y[:, i], probas[:, i])\n",
    "        precision[i], recall[i], _ = precision_recall_curve(binary_y[:, i], probas[:, i])\n",
    "        roc_auc[i] = auc(fpr[i], tpr[i]) \n",
    "        #auprc[i] = auc(recall[i], precision[i])\n",
    "        auprc[i] = average_precision_score(binary_y[:, i], probas[:, i])\n",
    "        \n",
    "    fpr['micro'], tpr['micro'], _ = roc_curve(binary_y.ravel(), probas.ravel())\n",
    "    precision['micro'], recall['micro'], _ = precision_recall_curve(binary_y.ravel(), probas.ravel())\n",
    "    \n",
    "    roc_auc['micro'] = auc(fpr['micro'], tpr['micro'])\n",
    "    #roc_auc['micro'] = roc_auc_score(binary_y, probas, average='micro')\n",
    "    auprc['micro'] = auc(recall['micro'], precision['micro'])\n",
    "    #auprc['micro'] = average_precision_score(binary_y, probas, average='micro')\n",
    "    \n",
    "    all_fpr = np.unique(np.concatenate([fpr[i] for i in range(n_classes)]))\n",
    "    all_recall = np.unique(np.concatenate([recall[i] for i in range(n_classes)]))\n",
    "    mean_tpr = np.zeros_like(all_fpr)\n",
    "    mean_precision = np.zeros_like(all_recall)\n",
    "    \n",
    "    for i in range(n_classes):\n",
    "        mean_tpr += interp(all_fpr, fpr[i], tpr[i])\n",
    "        mean_precision += interp(all_recall, precision[i], recall[i])\n",
    "    mean_tpr /= n_classes\n",
    "    mean_precision /= n_classes\n",
    "    \n",
    "    fpr['macro'] = all_fpr\n",
    "    tpr['macro'] = mean_tpr\n",
    "    roc_auc['macro'] = auc(fpr['macro'], tpr['macro'])\n",
    "    #roc_auc['macro'] = roc_auc_score(binary_y, probas, average='macro')\n",
    "    \n",
    "    recall['macro'] = all_recall\n",
    "    precision['macro'] = mean_precision\n",
    "    auprc['macro'] = auc(recall['macro'], precision['macro'])\n",
    "    #auprc['macro'] = average_precision_score(binary_y, probas, average='macro')\n",
    "    \n",
    "    ### plot roc, precision-recall \n",
    "    if plot_curve_:\n",
    "        plot_curve(fpr, tpr, roc_auc, precision, recall, auprc, name)\n",
    "    \n",
    "    return  binary_y, probas, lb\n",
    "   "
   ]
  },
  {
   "cell_type": "code",
   "execution_count": 27,
   "metadata": {},
   "outputs": [],
   "source": [
    "def plot_curve(fpr, tpr, roc_auc, precision, recall, auprc, name):\n",
    "    \"\"\" Plot roc curve and precision-recall curve\n",
    "\n",
    "    Args:\n",
    "        param1: fpr\n",
    "        param2: tpr\n",
    "        param3: AUC\n",
    "        param4: precision\n",
    "        param5: recall\n",
    "        param6: AUPRC\n",
    "        param7: Name of target\n",
    "        \n",
    "     \"\"\"\n",
    "    plt.plot(fpr['micro'], tpr['micro'], label = 'micro-average ROC (AUC = %0.2f)' % roc_auc['micro'])\n",
    "    plt.plot(fpr['macro'], tpr['macro'], label = 'macro-average ROC (AUC = %0.2f)' % roc_auc['macro'])\n",
    "    plt.plot([0,1], [0,1], 'k--', lw = 2)\n",
    "    plt.ylim([0.0, 1.05])\n",
    "    plt.xlim([0.0, 1.0])        \n",
    "    plt.title('Receiver operating characteristic for %s' % name)\n",
    "    plt.xlabel('False Positive Rate')\n",
    "    plt.ylabel('True Positive Rate')\n",
    "    plt.legend(loc = 'best')\n",
    "    plt.show()\n",
    "    \n",
    "    plt.plot(recall['micro'], precision['micro'], label = 'micro-average PRC (AUPRC = %0.2f)' % (auprc['micro']))\n",
    "    plt.plot(recall['macro'], precision['macro'], label = 'macro-average PRC (AUPRC = %0.2f)' % (auprc['macro']))\n",
    "        \n",
    "    plt.title('Precission-Recall Curve for %s' % name)\n",
    "    plt.ylabel('Precission')\n",
    "    plt.xlabel('Recall')\n",
    "    plt.ylim([0.0, 1.05])\n",
    "    plt.xlim([0.0, 1.0])\n",
    "    plt.legend(loc = 'best')\n",
    "    plt.show()"
   ]
  },
  {
   "cell_type": "code",
   "execution_count": 28,
   "metadata": {
    "scrolled": true
   },
   "outputs": [
    {
     "data": {
      "image/png": "[encoded data removed]",
      "text/plain": [
       "<Figure size 432x288 with 1 Axes>"
      ]
     },
     "metadata": {
      "needs_background": "light"
     },
     "output_type": "display_data"
    },
    {
     "data": {
      "image/png": "[encoded data removed]",
      "text/plain": [
       "<Figure size 432x288 with 1 Axes>"
      ]
     },
     "metadata": {
      "needs_background": "light"
     },
     "output_type": "display_data"
    },
    {
     "data": {
      "image/png": "[encoded data removed]",
      "text/plain": [
       "<Figure size 432x288 with 1 Axes>"
      ]
     },
     "metadata": {
      "needs_background": "light"
     },
     "output_type": "display_data"
    },
    {
     "data": {
      "image/png": "[encoded data removed]",
      "text/plain": [
       "<Figure size 432x288 with 1 Axes>"
      ]
     },
     "metadata": {
      "needs_background": "light"
     },
     "output_type": "display_data"
    },
    {
     "data": {
      "image/png": "[encoded data removed]",
      "text/plain": [
       "<Figure size 432x288 with 1 Axes>"
      ]
     },
     "metadata": {
      "needs_background": "light"
     },
     "output_type": "display_data"
    },
    {
     "data": {
      "image/png": "[encoded data removed]",
      "text/plain": [
       "<Figure size 432x288 with 1 Axes>"
      ]
     },
     "metadata": {
      "needs_background": "light"
     },
     "output_type": "display_data"
    },
    {
     "data": {
      "image/png": "[encoded data removed]",
      "text/plain": [
       "<Figure size 432x288 with 1 Axes>"
      ]
     },
     "metadata": {
      "needs_background": "light"
     },
     "output_type": "display_data"
    },
    {
     "data": {
      "image/png": "[encoded data removed]",
      "text/plain": [
       "<Figure size 432x288 with 1 Axes>"
      ]
     },
     "metadata": {
      "needs_background": "light"
     },
     "output_type": "display_data"
    }
   ],
   "source": [
    "for i in range(4):\n",
    "    svm_cv(none_zero_X, data.iloc[:,i+1], 5, data.columns[i+1], True)"
   ]
  },
  {
   "cell_type": "markdown",
   "metadata": {},
   "source": [
    "### P5. Composite SVM classifier"
   ]
  },
  {
   "cell_type": "markdown",
   "metadata": {},
   "source": [
    "A composite SVM classifier was created to simultaneouly predict medium('Medium') and environmental perturbations('Stress'). \n",
    "\n",
    "The composite SVM classifier was created by concatenating the label of 'Medium' and 'Stress', and make prediction of this new concatenated label. The number of samples in each category were shown in the table below."
   ]
  },
  {
   "cell_type": "code",
   "execution_count": 29,
   "metadata": {},
   "outputs": [],
   "source": [
    "data['Medium_Stress'] = data['Medium'] + '_' + data['Stress']"
   ]
  },
  {
   "cell_type": "code",
   "execution_count": 30,
   "metadata": {},
   "outputs": [
    {
     "data": {
      "text/html": [
       "<div>\n",
       "<style scoped>\n",
       "    .dataframe tbody tr th:only-of-type {\n",
       "        vertical-align: middle;\n",
       "    }\n",
       "\n",
       "    .dataframe tbody tr th {\n",
       "        vertical-align: top;\n",
       "    }\n",
       "\n",
       "    .dataframe thead th {\n",
       "        text-align: right;\n",
       "    }\n",
       "</style>\n",
       "<table border=\"1\" class=\"dataframe\">\n",
       "  <thead>\n",
       "    <tr style=\"text-align: right;\">\n",
       "      <th></th>\n",
       "      <th>Medium_Stress</th>\n",
       "    </tr>\n",
       "  </thead>\n",
       "  <tbody>\n",
       "    <tr>\n",
       "      <th>MD001_none</th>\n",
       "      <td>36</td>\n",
       "    </tr>\n",
       "    <tr>\n",
       "      <th>MD001_O2-starvation</th>\n",
       "      <td>18</td>\n",
       "    </tr>\n",
       "    <tr>\n",
       "      <th>MD002_none</th>\n",
       "      <td>16</td>\n",
       "    </tr>\n",
       "    <tr>\n",
       "      <th>MD011_none</th>\n",
       "      <td>15</td>\n",
       "    </tr>\n",
       "    <tr>\n",
       "      <th>MD004_carbon-limitation</th>\n",
       "      <td>13</td>\n",
       "    </tr>\n",
       "    <tr>\n",
       "      <th>MD007_carbon-limitation</th>\n",
       "      <td>12</td>\n",
       "    </tr>\n",
       "    <tr>\n",
       "      <th>MD013_none</th>\n",
       "      <td>11</td>\n",
       "    </tr>\n",
       "    <tr>\n",
       "      <th>MD009_antibacterial</th>\n",
       "      <td>8</td>\n",
       "    </tr>\n",
       "    <tr>\n",
       "      <th>MD018_none</th>\n",
       "      <td>7</td>\n",
       "    </tr>\n",
       "    <tr>\n",
       "      <th>MD017_none</th>\n",
       "      <td>7</td>\n",
       "    </tr>\n",
       "    <tr>\n",
       "      <th>MD006_none</th>\n",
       "      <td>6</td>\n",
       "    </tr>\n",
       "    <tr>\n",
       "      <th>MD008_zinc-limitation</th>\n",
       "      <td>6</td>\n",
       "    </tr>\n",
       "    <tr>\n",
       "      <th>MD003_none</th>\n",
       "      <td>6</td>\n",
       "    </tr>\n",
       "    <tr>\n",
       "      <th>MD008_none</th>\n",
       "      <td>6</td>\n",
       "    </tr>\n",
       "    <tr>\n",
       "      <th>MD001_Indole</th>\n",
       "      <td>5</td>\n",
       "    </tr>\n",
       "    <tr>\n",
       "      <th>MD005_O2-starvation</th>\n",
       "      <td>5</td>\n",
       "    </tr>\n",
       "    <tr>\n",
       "      <th>MD014_RP-overexpress</th>\n",
       "      <td>5</td>\n",
       "    </tr>\n",
       "    <tr>\n",
       "      <th>MD010_none</th>\n",
       "      <td>3</td>\n",
       "    </tr>\n",
       "    <tr>\n",
       "      <th>MD014_none</th>\n",
       "      <td>3</td>\n",
       "    </tr>\n",
       "    <tr>\n",
       "      <th>MD015_none</th>\n",
       "      <td>2</td>\n",
       "    </tr>\n",
       "    <tr>\n",
       "      <th>MD009_none</th>\n",
       "      <td>2</td>\n",
       "    </tr>\n",
       "    <tr>\n",
       "      <th>MD016_none</th>\n",
       "      <td>1</td>\n",
       "    </tr>\n",
       "    <tr>\n",
       "      <th>MD012_O2-starvation</th>\n",
       "      <td>1</td>\n",
       "    </tr>\n",
       "  </tbody>\n",
       "</table>\n",
       "</div>"
      ],
      "text/plain": [
       "                         Medium_Stress\n",
       "MD001_none                          36\n",
       "MD001_O2-starvation                 18\n",
       "MD002_none                          16\n",
       "MD011_none                          15\n",
       "MD004_carbon-limitation             13\n",
       "MD007_carbon-limitation             12\n",
       "MD013_none                          11\n",
       "MD009_antibacterial                  8\n",
       "MD018_none                           7\n",
       "MD017_none                           7\n",
       "MD006_none                           6\n",
       "MD008_zinc-limitation                6\n",
       "MD003_none                           6\n",
       "MD008_none                           6\n",
       "MD001_Indole                         5\n",
       "MD005_O2-starvation                  5\n",
       "MD014_RP-overexpress                 5\n",
       "MD010_none                           3\n",
       "MD014_none                           3\n",
       "MD015_none                           2\n",
       "MD009_none                           2\n",
       "MD016_none                           1\n",
       "MD012_O2-starvation                  1"
      ]
     },
     "execution_count": 30,
     "metadata": {},
     "output_type": "execute_result"
    }
   ],
   "source": [
    "pd.DataFrame(data['Medium_Stress'].value_counts())"
   ]
  },
  {
   "cell_type": "markdown",
   "metadata": {},
   "source": [
    "10-fold cross-validation AUC/AUPRC were used to measure the results.\n",
    "\n",
    "To compare the composite classifer to the two individual classifiers in P4 together, I combine the two classifers' scores to get the scores for each concatenate label, and then get the overall AUC/AUPRC.\n",
    "\n",
    "Also, I create a baseline classifier that always predict to 'MD001_none', the category that has the most samples.\n",
    "\n",
    "The results were shown as below."
   ]
  },
  {
   "cell_type": "code",
   "execution_count": 31,
   "metadata": {},
   "outputs": [],
   "source": [
    "y = data['Medium_Stress']\n",
    "y_true, y_score, lb_m_s = svm_cv(none_zero_X, y, 10)"
   ]
  },
  {
   "cell_type": "code",
   "execution_count": 32,
   "metadata": {},
   "outputs": [],
   "source": [
    "num_m_s = y_true.shape[1]"
   ]
  },
  {
   "cell_type": "code",
   "execution_count": 33,
   "metadata": {},
   "outputs": [],
   "source": [
    "def score_report(y_true, y_score):\n",
    "    auc_micro = roc_auc_score(y_true, y_score, average='micro')\n",
    "    auc_macro = roc_auc_score(y_true, y_score, average='macro')\n",
    "\n",
    "    auprc_micro = average_precision_score(y_true, y_score, average='micro')\n",
    "    auprc_macro = average_precision_score(y_true, y_score, average='macro')\n",
    "    \n",
    "    return auc_micro, auc_macro, auprc_micro, auprc_macro"
   ]
  },
  {
   "cell_type": "code",
   "execution_count": 34,
   "metadata": {},
   "outputs": [],
   "source": [
    "result = {'Composite':[], 'Separate':[], 'Baseline':[]}"
   ]
  },
  {
   "cell_type": "code",
   "execution_count": 35,
   "metadata": {},
   "outputs": [],
   "source": [
    "a,b,c,d = score_report(y_true, y_score)\n",
    "result['Composite'].extend([a,b,c,d])"
   ]
  },
  {
   "cell_type": "code",
   "execution_count": 36,
   "metadata": {},
   "outputs": [],
   "source": [
    "y_true_m, y_score_m, lb_m = svm_cv(none_zero_X, data['Medium'], 5)\n",
    "y_true_s, y_score_s, lb_s = svm_cv(none_zero_X, data['Stress'], 5)"
   ]
  },
  {
   "cell_type": "code",
   "execution_count": 37,
   "metadata": {},
   "outputs": [],
   "source": [
    "num_m = y_true_m.shape[1]\n",
    "num_s = y_true_s.shape[1]"
   ]
  },
  {
   "cell_type": "code",
   "execution_count": 38,
   "metadata": {},
   "outputs": [],
   "source": [
    "def compute_():    \n",
    "    scores = np.zeros((len(data), num_m_s))\n",
    "    \n",
    "    for i in range(num_m_s):\n",
    "        one_ = np.zeros((1,num_m_s))\n",
    "        one_[0,i]=1\n",
    "        l_m_s = lb_m_s.inverse_transform(one_)\n",
    "        l_m, l_s = list(l_m_s)[0].split('_')\n",
    "        \n",
    "        ind_m = np.where(lb_m.transform(np.array([l_m]))==1)[1]\n",
    "        ind_s = np.where(lb_s.transform(np.array([l_s]))==1)[1]\n",
    "    \n",
    "        scores[:,i] = np.add(y_score_m[:,ind_m], y_score_s[:,ind_s])[:,0]\n",
    "    \n",
    "    return scores"
   ]
  },
  {
   "cell_type": "code",
   "execution_count": 39,
   "metadata": {},
   "outputs": [],
   "source": [
    "scores = compute_()\n",
    "a,b,c,d = score_report(y_true, scores)\n",
    "result['Separate'].extend([a,b,c,d])"
   ]
  },
  {
   "cell_type": "code",
   "execution_count": 40,
   "metadata": {},
   "outputs": [],
   "source": [
    "p = lb_m_s.transform(np.array(['MD001_none']))\n",
    "scores_baseline = np.repeat(p,len(data), axis=0)\n",
    "a,b,c,d = score_report(y_true, scores_baseline)\n",
    "result['Baseline'].extend([a,b,c,d])"
   ]
  },
  {
   "cell_type": "code",
   "execution_count": 41,
   "metadata": {},
   "outputs": [
    {
     "data": {
      "text/html": [
       "<div>\n",
       "<style scoped>\n",
       "    .dataframe tbody tr th:only-of-type {\n",
       "        vertical-align: middle;\n",
       "    }\n",
       "\n",
       "    .dataframe tbody tr th {\n",
       "        vertical-align: top;\n",
       "    }\n",
       "\n",
       "    .dataframe thead th {\n",
       "        text-align: right;\n",
       "    }\n",
       "</style>\n",
       "<table border=\"1\" class=\"dataframe\">\n",
       "  <thead>\n",
       "    <tr style=\"text-align: right;\">\n",
       "      <th></th>\n",
       "      <th>Composite</th>\n",
       "      <th>Separate</th>\n",
       "      <th>Baseline</th>\n",
       "    </tr>\n",
       "  </thead>\n",
       "  <tbody>\n",
       "    <tr>\n",
       "      <th>micro AUC</th>\n",
       "      <td>0.907656</td>\n",
       "      <td>0.769876</td>\n",
       "      <td>0.574274</td>\n",
       "    </tr>\n",
       "    <tr>\n",
       "      <th>macro AUC</th>\n",
       "      <td>0.876690</td>\n",
       "      <td>0.736634</td>\n",
       "      <td>0.500000</td>\n",
       "    </tr>\n",
       "    <tr>\n",
       "      <th>micro AUPRC</th>\n",
       "      <td>0.517631</td>\n",
       "      <td>0.210359</td>\n",
       "      <td>0.069845</td>\n",
       "    </tr>\n",
       "    <tr>\n",
       "      <th>macro AUPRC</th>\n",
       "      <td>0.547771</td>\n",
       "      <td>0.336123</td>\n",
       "      <td>0.043478</td>\n",
       "    </tr>\n",
       "  </tbody>\n",
       "</table>\n",
       "</div>"
      ],
      "text/plain": [
       "             Composite  Separate  Baseline\n",
       "micro AUC     0.907656  0.769876  0.574274\n",
       "macro AUC     0.876690  0.736634  0.500000\n",
       "micro AUPRC   0.517631  0.210359  0.069845\n",
       "macro AUPRC   0.547771  0.336123  0.043478"
      ]
     },
     "execution_count": 41,
     "metadata": {},
     "output_type": "execute_result"
    }
   ],
   "source": [
    "pd.DataFrame(result, index=['micro AUC', 'macro AUC', 'micro AUPRC', 'macro AUPRC'])"
   ]
  },
  {
   "cell_type": "markdown",
   "metadata": {},
   "source": [
    "It is shown that the composite SVM classifier performs better than the separate classifier together. Besides, both the composite SVM classifier and the separate classifier together perform better than the baseline classifier."
   ]
  },
  {
   "cell_type": "markdown",
   "metadata": {},
   "source": [
    "### P6. Reduce the dimensionality of gene expression profiles"
   ]
  },
  {
   "cell_type": "markdown",
   "metadata": {},
   "source": [
    "PCA and t-SNE were used to reduce the dimension of gene expression profiles to 2 dimensions. The datasets after processing were visualized as below. "
   ]
  },
  {
   "cell_type": "code",
   "execution_count": 42,
   "metadata": {},
   "outputs": [],
   "source": [
    "pca = PCA(n_components=2, whiten=True)\n",
    "X_pca = pca.fit_transform(X_std)"
   ]
  },
  {
   "cell_type": "code",
   "execution_count": 43,
   "metadata": {},
   "outputs": [],
   "source": [
    "X_embedded = TSNE(n_components=2).fit_transform(X_std)"
   ]
  },
  {
   "cell_type": "code",
   "execution_count": 44,
   "metadata": {},
   "outputs": [
    {
     "data": {
      "image/png": "[encoded data removed]",
      "text/plain": [
       "<Figure size 432x288 with 1 Axes>"
      ]
     },
     "metadata": {
      "needs_background": "light"
     },
     "output_type": "display_data"
    }
   ],
   "source": [
    "plt.scatter(X_pca[:,0], X_pca[:,1])\n",
    "plt.title('Reduce the dimensionality Using PCA')\n",
    "plt.show()"
   ]
  },
  {
   "cell_type": "code",
   "execution_count": 45,
   "metadata": {},
   "outputs": [
    {
     "data": {
      "image/png": "[encoded data removed]",
      "text/plain": [
       "<Figure size 432x288 with 1 Axes>"
      ]
     },
     "metadata": {
      "needs_background": "light"
     },
     "output_type": "display_data"
    }
   ],
   "source": [
    "plt.scatter(X_embedded[:,0], X_pca[:,1])\n",
    "plt.title('Reduce the dimensionality Using TSNE')\n",
    "plt.show()"
   ]
  },
  {
   "cell_type": "markdown",
   "metadata": {},
   "source": [
    "### P7. SVM classifiers using feature extraction"
   ]
  },
  {
   "cell_type": "markdown",
   "metadata": {},
   "source": [
    "Retrain the 4 SVM classifiers in P4, using feature extraction results in P6.\n",
    "\n",
    "The 10-fold cross-validation AUC/AUPRC values were shown as below."
   ]
  },
  {
   "cell_type": "code",
   "execution_count": 46,
   "metadata": {},
   "outputs": [],
   "source": [
    "c_PCA = np.zeros((4,4))\n",
    "c_tSNE = np.zeros((4,4))\n",
    "c_fs = np.zeros((4,4))"
   ]
  },
  {
   "cell_type": "code",
   "execution_count": 47,
   "metadata": {},
   "outputs": [],
   "source": [
    "for i in range(4):\n",
    "    y_true, y_score, _ = svm_cv(pd.DataFrame(X_pca), data.iloc[:,i+1], 10)\n",
    "    a,b,c,d = score_report(y_true, y_score)\n",
    "    c_PCA[i] = [a,b,c,d]"
   ]
  },
  {
   "cell_type": "code",
   "execution_count": 48,
   "metadata": {},
   "outputs": [],
   "source": [
    "for i in range(4):\n",
    "    y_true, y_score, _ = svm_cv(pd.DataFrame(X_embedded), data.iloc[:,i+1], 10)\n",
    "    a,b,c,d = score_report(y_true, y_score)\n",
    "    c_tSNE[i] = [a,b,c,d]"
   ]
  },
  {
   "cell_type": "code",
   "execution_count": 49,
   "metadata": {},
   "outputs": [],
   "source": [
    "for i in range(4):\n",
    "    y_true, y_score, _ = svm_cv(none_zero_X, data.iloc[:,i+1], 10)\n",
    "    a,b,c,d = score_report(y_true, y_score)\n",
    "    c_fs[i] = [a,b,c,d]"
   ]
  },
  {
   "cell_type": "code",
   "execution_count": 50,
   "metadata": {},
   "outputs": [
    {
     "data": {
      "text/html": [
       "<div>\n",
       "<style scoped>\n",
       "    .dataframe tbody tr th:only-of-type {\n",
       "        vertical-align: middle;\n",
       "    }\n",
       "\n",
       "    .dataframe tbody tr th {\n",
       "        vertical-align: top;\n",
       "    }\n",
       "\n",
       "    .dataframe thead th {\n",
       "        text-align: right;\n",
       "    }\n",
       "</style>\n",
       "<table border=\"1\" class=\"dataframe\">\n",
       "  <thead>\n",
       "    <tr style=\"text-align: right;\">\n",
       "      <th>Strain</th>\n",
       "      <th>micro AUC</th>\n",
       "      <th>macro AUC</th>\n",
       "      <th>micro AUPRC</th>\n",
       "      <th>macro AUPRC</th>\n",
       "    </tr>\n",
       "  </thead>\n",
       "  <tbody>\n",
       "    <tr>\n",
       "      <th>PCA</th>\n",
       "      <td>0.919685</td>\n",
       "      <td>0.659589</td>\n",
       "      <td>0.715658</td>\n",
       "      <td>0.205932</td>\n",
       "    </tr>\n",
       "    <tr>\n",
       "      <th>t-SNE</th>\n",
       "      <td>0.954994</td>\n",
       "      <td>0.910976</td>\n",
       "      <td>0.794646</td>\n",
       "      <td>0.389159</td>\n",
       "    </tr>\n",
       "    <tr>\n",
       "      <th>Feature Selection</th>\n",
       "      <td>0.942270</td>\n",
       "      <td>0.813666</td>\n",
       "      <td>0.805962</td>\n",
       "      <td>0.473577</td>\n",
       "    </tr>\n",
       "  </tbody>\n",
       "</table>\n",
       "</div>"
      ],
      "text/plain": [
       "Strain             micro AUC  macro AUC  micro AUPRC  macro AUPRC\n",
       "PCA                 0.919685   0.659589     0.715658     0.205932\n",
       "t-SNE               0.954994   0.910976     0.794646     0.389159\n",
       "Feature Selection   0.942270   0.813666     0.805962     0.473577"
      ]
     },
     "metadata": {},
     "output_type": "display_data"
    },
    {
     "data": {
      "text/html": [
       "<div>\n",
       "<style scoped>\n",
       "    .dataframe tbody tr th:only-of-type {\n",
       "        vertical-align: middle;\n",
       "    }\n",
       "\n",
       "    .dataframe tbody tr th {\n",
       "        vertical-align: top;\n",
       "    }\n",
       "\n",
       "    .dataframe thead th {\n",
       "        text-align: right;\n",
       "    }\n",
       "</style>\n",
       "<table border=\"1\" class=\"dataframe\">\n",
       "  <thead>\n",
       "    <tr style=\"text-align: right;\">\n",
       "      <th>Medium</th>\n",
       "      <th>micro AUC</th>\n",
       "      <th>macro AUC</th>\n",
       "      <th>micro AUPRC</th>\n",
       "      <th>macro AUPRC</th>\n",
       "    </tr>\n",
       "  </thead>\n",
       "  <tbody>\n",
       "    <tr>\n",
       "      <th>PCA</th>\n",
       "      <td>0.866364</td>\n",
       "      <td>0.856060</td>\n",
       "      <td>0.422697</td>\n",
       "      <td>0.376580</td>\n",
       "    </tr>\n",
       "    <tr>\n",
       "      <th>t-SNE</th>\n",
       "      <td>0.922619</td>\n",
       "      <td>0.910503</td>\n",
       "      <td>0.605903</td>\n",
       "      <td>0.594825</td>\n",
       "    </tr>\n",
       "    <tr>\n",
       "      <th>Feature Selection</th>\n",
       "      <td>0.934176</td>\n",
       "      <td>0.908869</td>\n",
       "      <td>0.639704</td>\n",
       "      <td>0.618050</td>\n",
       "    </tr>\n",
       "  </tbody>\n",
       "</table>\n",
       "</div>"
      ],
      "text/plain": [
       "Medium             micro AUC  macro AUC  micro AUPRC  macro AUPRC\n",
       "PCA                 0.866364   0.856060     0.422697     0.376580\n",
       "t-SNE               0.922619   0.910503     0.605903     0.594825\n",
       "Feature Selection   0.934176   0.908869     0.639704     0.618050"
      ]
     },
     "metadata": {},
     "output_type": "display_data"
    },
    {
     "data": {
      "text/html": [
       "<div>\n",
       "<style scoped>\n",
       "    .dataframe tbody tr th:only-of-type {\n",
       "        vertical-align: middle;\n",
       "    }\n",
       "\n",
       "    .dataframe tbody tr th {\n",
       "        vertical-align: top;\n",
       "    }\n",
       "\n",
       "    .dataframe thead th {\n",
       "        text-align: right;\n",
       "    }\n",
       "</style>\n",
       "<table border=\"1\" class=\"dataframe\">\n",
       "  <thead>\n",
       "    <tr style=\"text-align: right;\">\n",
       "      <th>Stress</th>\n",
       "      <th>micro AUC</th>\n",
       "      <th>macro AUC</th>\n",
       "      <th>micro AUPRC</th>\n",
       "      <th>macro AUPRC</th>\n",
       "    </tr>\n",
       "  </thead>\n",
       "  <tbody>\n",
       "    <tr>\n",
       "      <th>PCA</th>\n",
       "      <td>0.899777</td>\n",
       "      <td>0.740113</td>\n",
       "      <td>0.735863</td>\n",
       "      <td>0.351707</td>\n",
       "    </tr>\n",
       "    <tr>\n",
       "      <th>t-SNE</th>\n",
       "      <td>0.912150</td>\n",
       "      <td>0.810894</td>\n",
       "      <td>0.735630</td>\n",
       "      <td>0.435143</td>\n",
       "    </tr>\n",
       "    <tr>\n",
       "      <th>Feature Selection</th>\n",
       "      <td>0.914762</td>\n",
       "      <td>0.872737</td>\n",
       "      <td>0.695295</td>\n",
       "      <td>0.539866</td>\n",
       "    </tr>\n",
       "  </tbody>\n",
       "</table>\n",
       "</div>"
      ],
      "text/plain": [
       "Stress             micro AUC  macro AUC  micro AUPRC  macro AUPRC\n",
       "PCA                 0.899777   0.740113     0.735863     0.351707\n",
       "t-SNE               0.912150   0.810894     0.735630     0.435143\n",
       "Feature Selection   0.914762   0.872737     0.695295     0.539866"
      ]
     },
     "metadata": {},
     "output_type": "display_data"
    },
    {
     "data": {
      "text/html": [
       "<div>\n",
       "<style scoped>\n",
       "    .dataframe tbody tr th:only-of-type {\n",
       "        vertical-align: middle;\n",
       "    }\n",
       "\n",
       "    .dataframe tbody tr th {\n",
       "        vertical-align: top;\n",
       "    }\n",
       "\n",
       "    .dataframe thead th {\n",
       "        text-align: right;\n",
       "    }\n",
       "</style>\n",
       "<table border=\"1\" class=\"dataframe\">\n",
       "  <thead>\n",
       "    <tr style=\"text-align: right;\">\n",
       "      <th>GenePerturbed</th>\n",
       "      <th>micro AUC</th>\n",
       "      <th>macro AUC</th>\n",
       "      <th>micro AUPRC</th>\n",
       "      <th>macro AUPRC</th>\n",
       "    </tr>\n",
       "  </thead>\n",
       "  <tbody>\n",
       "    <tr>\n",
       "      <th>PCA</th>\n",
       "      <td>0.951695</td>\n",
       "      <td>0.840292</td>\n",
       "      <td>0.797840</td>\n",
       "      <td>0.256922</td>\n",
       "    </tr>\n",
       "    <tr>\n",
       "      <th>t-SNE</th>\n",
       "      <td>0.943869</td>\n",
       "      <td>0.873894</td>\n",
       "      <td>0.813930</td>\n",
       "      <td>0.232494</td>\n",
       "    </tr>\n",
       "    <tr>\n",
       "      <th>Feature Selection</th>\n",
       "      <td>0.973288</td>\n",
       "      <td>0.898041</td>\n",
       "      <td>0.842213</td>\n",
       "      <td>0.482355</td>\n",
       "    </tr>\n",
       "  </tbody>\n",
       "</table>\n",
       "</div>"
      ],
      "text/plain": [
       "GenePerturbed      micro AUC  macro AUC  micro AUPRC  macro AUPRC\n",
       "PCA                 0.951695   0.840292     0.797840     0.256922\n",
       "t-SNE               0.943869   0.873894     0.813930     0.232494\n",
       "Feature Selection   0.973288   0.898041     0.842213     0.482355"
      ]
     },
     "metadata": {},
     "output_type": "display_data"
    }
   ],
   "source": [
    "for i in range(4):\n",
    "    result = np.vstack((c_PCA[i], c_tSNE[i], c_fs[i]))\n",
    "    result= pd.DataFrame(result, columns=['micro AUC', 'macro AUC', 'micro AUPRC', 'macro AUPRC'],index=['PCA', 't-SNE','Feature Selection'])\n",
    "    result.columns.name = data.columns[i+1]\n",
    "    display(result)"
   ]
  },
  {
   "cell_type": "markdown",
   "metadata": {},
   "source": [
    "According to the tables above, for the classifier of 'Strain', feature selection is the best pre-processing approach; for the classifier of 'Medium', feature selection is best pre-processing approach; for the classifier of 'Stress', t-SNE is the best pre-processing approach; for the classifier of 'GenePerturbed', feature selection is the best pre-processing approach."
   ]
  }
 ],
 "metadata": {
  "kernelspec": {
   "display_name": "Python 3",
   "language": "python",
   "name": "python3"
  },
  "language_info": {
   "codemirror_mode": {
    "name": "ipython",
    "version": 3
   },
   "file_extension": ".py",
   "mimetype": "text/x-python",
   "name": "python",
   "nbconvert_exporter": "python",
   "pygments_lexer": "ipython3",
   "version": "3.7.3"
  }
 },
 "nbformat": 4,
 "nbformat_minor": 2
}
