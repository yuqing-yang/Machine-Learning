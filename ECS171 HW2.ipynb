{
 "cells": [
  {
   "cell_type": "markdown",
   "metadata": {},
   "source": [
    "## ECS171 HW2"
   ]
  },
  {
   "cell_type": "code",
   "execution_count": 2,
   "metadata": {},
   "outputs": [],
   "source": [
    "import pandas as pd\n",
    "import numpy as np\n",
    "from sklearn.neighbors import LocalOutlierFactor\n",
    "from sklearn.ensemble import IsolationForest\n",
    "from sklearn.model_selection import train_test_split\n",
    "from sklearn.metrics import confusion_matrix, classification_report\n",
    "from sklearn.metrics import accuracy_score\n",
    "import matplotlib.pyplot as plt"
   ]
  },
  {
   "cell_type": "code",
   "execution_count": 25,
   "metadata": {},
   "outputs": [],
   "source": [
    "from keras.models import Sequential\n",
    "from keras.layers import Dense\n",
    "from keras.utils import to_categorical\n",
    "from keras.callbacks import Callback\n",
    "from keras import metrics\n",
    "from keras import backend as K\n",
    "from keras import optimizers\n",
    "from sklearn.preprocessing import OneHotEncoder, LabelEncoder, StandardScaler"
   ]
  },
  {
   "cell_type": "markdown",
   "metadata": {},
   "source": [
    "### Loading the dataset"
   ]
  },
  {
   "cell_type": "code",
   "execution_count": 5,
   "metadata": {},
   "outputs": [
    {
     "data": {
      "text/html": [
       "<div>\n",
       "<style scoped>\n",
       "    .dataframe tbody tr th:only-of-type {\n",
       "        vertical-align: middle;\n",
       "    }\n",
       "\n",
       "    .dataframe tbody tr th {\n",
       "        vertical-align: top;\n",
       "    }\n",
       "\n",
       "    .dataframe thead th {\n",
       "        text-align: right;\n",
       "    }\n",
       "</style>\n",
       "<table border=\"1\" class=\"dataframe\">\n",
       "  <thead>\n",
       "    <tr style=\"text-align: right;\">\n",
       "      <th></th>\n",
       "      <th>1</th>\n",
       "      <th>2</th>\n",
       "      <th>3</th>\n",
       "      <th>4</th>\n",
       "      <th>5</th>\n",
       "      <th>6</th>\n",
       "      <th>7</th>\n",
       "      <th>8</th>\n",
       "      <th>9</th>\n",
       "    </tr>\n",
       "    <tr>\n",
       "      <th>0</th>\n",
       "      <th></th>\n",
       "      <th></th>\n",
       "      <th></th>\n",
       "      <th></th>\n",
       "      <th></th>\n",
       "      <th></th>\n",
       "      <th></th>\n",
       "      <th></th>\n",
       "      <th></th>\n",
       "    </tr>\n",
       "  </thead>\n",
       "  <tbody>\n",
       "    <tr>\n",
       "      <th>ADT1_YEAST</th>\n",
       "      <td>0.58</td>\n",
       "      <td>0.61</td>\n",
       "      <td>0.47</td>\n",
       "      <td>0.13</td>\n",
       "      <td>0.5</td>\n",
       "      <td>0.0</td>\n",
       "      <td>0.48</td>\n",
       "      <td>0.22</td>\n",
       "      <td>MIT</td>\n",
       "    </tr>\n",
       "    <tr>\n",
       "      <th>ADT2_YEAST</th>\n",
       "      <td>0.43</td>\n",
       "      <td>0.67</td>\n",
       "      <td>0.48</td>\n",
       "      <td>0.27</td>\n",
       "      <td>0.5</td>\n",
       "      <td>0.0</td>\n",
       "      <td>0.53</td>\n",
       "      <td>0.22</td>\n",
       "      <td>MIT</td>\n",
       "    </tr>\n",
       "    <tr>\n",
       "      <th>ADT3_YEAST</th>\n",
       "      <td>0.64</td>\n",
       "      <td>0.62</td>\n",
       "      <td>0.49</td>\n",
       "      <td>0.15</td>\n",
       "      <td>0.5</td>\n",
       "      <td>0.0</td>\n",
       "      <td>0.53</td>\n",
       "      <td>0.22</td>\n",
       "      <td>MIT</td>\n",
       "    </tr>\n",
       "    <tr>\n",
       "      <th>AAR2_YEAST</th>\n",
       "      <td>0.58</td>\n",
       "      <td>0.44</td>\n",
       "      <td>0.57</td>\n",
       "      <td>0.13</td>\n",
       "      <td>0.5</td>\n",
       "      <td>0.0</td>\n",
       "      <td>0.54</td>\n",
       "      <td>0.22</td>\n",
       "      <td>NUC</td>\n",
       "    </tr>\n",
       "    <tr>\n",
       "      <th>AATM_YEAST</th>\n",
       "      <td>0.42</td>\n",
       "      <td>0.44</td>\n",
       "      <td>0.48</td>\n",
       "      <td>0.54</td>\n",
       "      <td>0.5</td>\n",
       "      <td>0.0</td>\n",
       "      <td>0.48</td>\n",
       "      <td>0.22</td>\n",
       "      <td>MIT</td>\n",
       "    </tr>\n",
       "  </tbody>\n",
       "</table>\n",
       "</div>"
      ],
      "text/plain": [
       "               1     2     3     4    5    6     7     8    9\n",
       "0                                                            \n",
       "ADT1_YEAST  0.58  0.61  0.47  0.13  0.5  0.0  0.48  0.22  MIT\n",
       "ADT2_YEAST  0.43  0.67  0.48  0.27  0.5  0.0  0.53  0.22  MIT\n",
       "ADT3_YEAST  0.64  0.62  0.49  0.15  0.5  0.0  0.53  0.22  MIT\n",
       "AAR2_YEAST  0.58  0.44  0.57  0.13  0.5  0.0  0.54  0.22  NUC\n",
       "AATM_YEAST  0.42  0.44  0.48  0.54  0.5  0.0  0.48  0.22  MIT"
      ]
     },
     "execution_count": 5,
     "metadata": {},
     "output_type": "execute_result"
    }
   ],
   "source": [
    "yeast = pd.read_csv('G:/ecs171/yeast.data', header = None, sep = '\\s+', index_col = 0)\n",
    "yeast.head()"
   ]
  },
  {
   "cell_type": "markdown",
   "metadata": {},
   "source": [
    "The are 1484 samples in the dataset 'yeast'. Each sample has 8 features and 1 class."
   ]
  },
  {
   "cell_type": "code",
   "execution_count": 6,
   "metadata": {},
   "outputs": [
    {
     "data": {
      "text/html": [
       "<div>\n",
       "<style scoped>\n",
       "    .dataframe tbody tr th:only-of-type {\n",
       "        vertical-align: middle;\n",
       "    }\n",
       "\n",
       "    .dataframe tbody tr th {\n",
       "        vertical-align: top;\n",
       "    }\n",
       "\n",
       "    .dataframe thead th {\n",
       "        text-align: right;\n",
       "    }\n",
       "</style>\n",
       "<table border=\"1\" class=\"dataframe\">\n",
       "  <thead>\n",
       "    <tr style=\"text-align: right;\">\n",
       "      <th></th>\n",
       "      <th>Number</th>\n",
       "    </tr>\n",
       "  </thead>\n",
       "  <tbody>\n",
       "    <tr>\n",
       "      <th>CYT</th>\n",
       "      <td>463</td>\n",
       "    </tr>\n",
       "    <tr>\n",
       "      <th>NUC</th>\n",
       "      <td>429</td>\n",
       "    </tr>\n",
       "    <tr>\n",
       "      <th>MIT</th>\n",
       "      <td>244</td>\n",
       "    </tr>\n",
       "    <tr>\n",
       "      <th>ME3</th>\n",
       "      <td>163</td>\n",
       "    </tr>\n",
       "    <tr>\n",
       "      <th>ME2</th>\n",
       "      <td>51</td>\n",
       "    </tr>\n",
       "    <tr>\n",
       "      <th>ME1</th>\n",
       "      <td>44</td>\n",
       "    </tr>\n",
       "    <tr>\n",
       "      <th>EXC</th>\n",
       "      <td>35</td>\n",
       "    </tr>\n",
       "    <tr>\n",
       "      <th>VAC</th>\n",
       "      <td>30</td>\n",
       "    </tr>\n",
       "    <tr>\n",
       "      <th>POX</th>\n",
       "      <td>20</td>\n",
       "    </tr>\n",
       "    <tr>\n",
       "      <th>ERL</th>\n",
       "      <td>5</td>\n",
       "    </tr>\n",
       "  </tbody>\n",
       "</table>\n",
       "</div>"
      ],
      "text/plain": [
       "     Number\n",
       "CYT     463\n",
       "NUC     429\n",
       "MIT     244\n",
       "ME3     163\n",
       "ME2      51\n",
       "ME1      44\n",
       "EXC      35\n",
       "VAC      30\n",
       "POX      20\n",
       "ERL       5"
      ]
     },
     "execution_count": 6,
     "metadata": {},
     "output_type": "execute_result"
    }
   ],
   "source": [
    "num = pd.DataFrame(yeast.loc[:,9].value_counts())\n",
    "num.columns = ['Number']\n",
    "num"
   ]
  },
  {
   "cell_type": "markdown",
   "metadata": {},
   "source": [
    "There are 10 different classes in the dataset, the number of each class is shown in the table above. "
   ]
  },
  {
   "cell_type": "markdown",
   "metadata": {},
   "source": [
    "### P1.  Outlier detection"
   ]
  },
  {
   "cell_type": "code",
   "execution_count": 7,
   "metadata": {},
   "outputs": [
    {
     "data": {
      "text/plain": [
       "15"
      ]
     },
     "execution_count": 7,
     "metadata": {},
     "output_type": "execute_result"
    }
   ],
   "source": [
    "lof = LocalOutlierFactor(contamination=0.01)\n",
    "#lof = LocalOutlierFactor()\n",
    "pred_lof = lof.fit_predict(yeast.loc[:,1:8])\n",
    "sum(pred_lof == -1)"
   ]
  },
  {
   "cell_type": "code",
   "execution_count": 8,
   "metadata": {},
   "outputs": [
    {
     "data": {
      "text/plain": [
       "CYT    457\n",
       "NUC    428\n",
       "MIT    244\n",
       "ME3    163\n",
       "ME2     50\n",
       "ME1     44\n",
       "EXC     35\n",
       "VAC     30\n",
       "POX     13\n",
       "ERL      5\n",
       "Name: 9, dtype: int64"
      ]
     },
     "execution_count": 8,
     "metadata": {},
     "output_type": "execute_result"
    }
   ],
   "source": [
    "yeast.iloc[pred_lof == 1].loc[:,9].value_counts()"
   ]
  },
  {
   "cell_type": "markdown",
   "metadata": {},
   "source": [
    "The number of each class after remove outliers detected by the LOF algorithm is shown in the table above."
   ]
  },
  {
   "cell_type": "code",
   "execution_count": 9,
   "metadata": {},
   "outputs": [
    {
     "data": {
      "text/plain": [
       "15"
      ]
     },
     "execution_count": 9,
     "metadata": {},
     "output_type": "execute_result"
    }
   ],
   "source": [
    "isof = IsolationForest(contamination=0.01, behaviour='new')\n",
    "pred_isof = isof.fit_predict(yeast.loc[:,1:8])\n",
    "sum(pred_isof == -1)"
   ]
  },
  {
   "cell_type": "code",
   "execution_count": 10,
   "metadata": {},
   "outputs": [
    {
     "data": {
      "text/plain": [
       "CYT    460\n",
       "NUC    427\n",
       "MIT    244\n",
       "ME3    162\n",
       "ME2     50\n",
       "ME1     41\n",
       "EXC     35\n",
       "VAC     30\n",
       "POX     20\n",
       "Name: 9, dtype: int64"
      ]
     },
     "execution_count": 10,
     "metadata": {},
     "output_type": "execute_result"
    }
   ],
   "source": [
    "yeast.iloc[pred_isof == 1].loc[:,9].value_counts()"
   ]
  },
  {
   "cell_type": "markdown",
   "metadata": {},
   "source": [
    "The number of each class after remove outliers detected by the Isolation Forest algorithm is shown in the table above."
   ]
  },
  {
   "cell_type": "markdown",
   "metadata": {},
   "source": [
    "The LOF and Isolation Forest algorithms were used to detect outliers.\n",
    "\n",
    "According to the LOF algorihm, there are 30 outliers in the dataset. According to the Isolation Forest algorithm, there are 30 outliers in the dataset too. However, the 30 outliers detected by the two algorithm are not the same. According to the tables above, the Isolation Forest algorithm identifies all the samples in ERL class as outliers.\n",
    "\n",
    "The LOF algorithm assumes that outliers have a substatially lower density than their neighbors. The Isolation Forest algorithm assumes that random partitioning produces noticeably shorter paths for anomalies. Hence, when a forest of random trees collectively produce shorter path lengths for particular samples, they are highly likely to be anomalies. \n",
    "\n",
    "(Novelty and Outlier Detection from https://scikit-learn.org/stable/modules/outlier_detection.html)\n",
    "\n",
    "To keep all the 10 classes in the dataset, the LOF algorithm was used to remove the outliers. There are 1454 samples in the new dataset."
   ]
  },
  {
   "cell_type": "code",
   "execution_count": 11,
   "metadata": {},
   "outputs": [],
   "source": [
    "yeast_new = yeast.iloc[pred_lof == 1]"
   ]
  },
  {
   "cell_type": "markdown",
   "metadata": {},
   "source": [
    "### P2. 4-layer ANN"
   ]
  },
  {
   "cell_type": "markdown",
   "metadata": {},
   "source": [
    "First, I transformed the class of each sample to a vector. The ith element is set to 1, and all the other elements are set to 0 if the class of the sample is at the ith position. Then the dataset were split into a random set of 66% of the samples as the training set, and the rest 34% as the testing set. Normalization were then applied. "
   ]
  },
  {
   "cell_type": "code",
   "execution_count": 12,
   "metadata": {},
   "outputs": [],
   "source": [
    "X = yeast_new.loc[:,1:8].values\n",
    "y = yeast_new.loc[:,9].values"
   ]
  },
  {
   "cell_type": "code",
   "execution_count": 13,
   "metadata": {},
   "outputs": [],
   "source": [
    "ec = LabelEncoder()\n",
    "y = ec.fit_transform(y)"
   ]
  },
  {
   "cell_type": "code",
   "execution_count": 14,
   "metadata": {},
   "outputs": [],
   "source": [
    "dummy_y = to_categorical(y)"
   ]
  },
  {
   "cell_type": "code",
   "execution_count": 15,
   "metadata": {},
   "outputs": [],
   "source": [
    "X_train, X_test, y_train, y_test = train_test_split(X, dummy_y, test_size = 0.34, random_state = 123)"
   ]
  },
  {
   "cell_type": "code",
   "execution_count": 16,
   "metadata": {},
   "outputs": [],
   "source": [
    "#unique, counts = np.unique(y_train.argmax(axis = 1), return_counts=True)\n",
    "#dict(zip(unique, counts))"
   ]
  },
  {
   "cell_type": "code",
   "execution_count": 17,
   "metadata": {},
   "outputs": [],
   "source": [
    "sc = StandardScaler()\n",
    "sc.fit(X_train)\n",
    "X_train = sc.transform(X_train)\n",
    "X_test = sc.transform(X_test)"
   ]
  },
  {
   "cell_type": "markdown",
   "metadata": {},
   "source": [
    "A 4 layer (2 hidden layers, 3 nodes per hidden layer) ANN was built. ANN model was constructed, and trained with the training set. The learning rate of SGD was set to 6, epoch was set to 200. "
   ]
  },
  {
   "cell_type": "code",
   "execution_count": 125,
   "metadata": {},
   "outputs": [],
   "source": [
    "model = Sequential()\n",
    "model.add(Dense(3, input_dim = 8, activation = 'sigmoid'))\n",
    "model.add(Dense(3, activation = 'sigmoid'))\n",
    "model.add(Dense(10, activation = 'sigmoid'))\n",
    "sgd = optimizers.SGD(lr = 6)\n",
    "model.compile(loss = 'mean_squared_error', optimizer = 'sgd', metrics = ['accuracy'])\n",
    "\n",
    "track={'weight_1':[], 'weight_2':[], 'weight_3':[], 'bias':[]}\n",
    "error={'train':[], 'test':[]}"
   ]
  },
  {
   "cell_type": "code",
   "execution_count": 13,
   "metadata": {},
   "outputs": [],
   "source": [
    "true_train = y_train.argmax(axis=1)\n",
    "true_test = y_test.argmax(axis=1)"
   ]
  },
  {
   "cell_type": "code",
   "execution_count": 14,
   "metadata": {},
   "outputs": [],
   "source": [
    "def calc_error(true, pred):\n",
    "    m = confusion_matrix(true, pred)\n",
    "    #return 1-(m.diagonal()[0] + m.diagonal()[1:].sum())/m.sum()\n",
    "    return 1 - (m.diagonal()[0] + m[1:,1:].sum())/m.sum()"
   ]
  },
  {
   "cell_type": "code",
   "execution_count": 122,
   "metadata": {},
   "outputs": [],
   "source": [
    "class Track(Callback):\n",
    "    def on_epoch_end(self, epoch, logs={}):\n",
    "        a,b,c = model.layers[2].get_weights()[0][:,0]\n",
    "        track['weight_1'].append(a)\n",
    "        track['weight_2'].append(b)\n",
    "        track['weight_3'].append(c)\n",
    "        track['bias'].append(model.layers[2].get_weights()[1][0])\n",
    "        \n",
    "        pred_train = model.predict(X_train).argmax(axis=1)\n",
    "        pred_test = model.predict(X_test).argmax(axis=1)\n",
    "\n",
    "        error['train'].append(calc_error(true_train, pred_train))\n",
    "        error['test'].append(calc_error(true_test, pred_test))\n",
    "        "
   ]
  },
  {
   "cell_type": "code",
   "execution_count": 126,
   "metadata": {},
   "outputs": [],
   "source": [
    "history = model.fit(X_train, y_train, epochs = 200, callbacks=[Track()], verbose=0)"
   ]
  },
  {
   "cell_type": "code",
   "execution_count": 222,
   "metadata": {},
   "outputs": [
    {
     "data": {
      "text/plain": [
       "<matplotlib.axes._subplots.AxesSubplot at 0x23d639764a8>"
      ]
     },
     "execution_count": 222,
     "metadata": {},
     "output_type": "execute_result"
    },
    {
     "data": {
      "image/png": "[encoded data removed]",
      "text/plain": [
       "<Figure size 432x288 with 1 Axes>"
      ]
     },
     "metadata": {
      "needs_background": "light"
     },
     "output_type": "display_data"
    }
   ],
   "source": [
    "track = pd.DataFrame(track)\n",
    "track.plot(title = 'Weight Values per Iteration')"
   ]
  },
  {
   "cell_type": "markdown",
   "metadata": {},
   "source": [
    "The weights values per iteration for the last layer were shown in the plot above."
   ]
  },
  {
   "cell_type": "code",
   "execution_count": 223,
   "metadata": {},
   "outputs": [
    {
     "data": {
      "text/plain": [
       "<matplotlib.axes._subplots.AxesSubplot at 0x23d75b0d358>"
      ]
     },
     "execution_count": 223,
     "metadata": {},
     "output_type": "execute_result"
    },
    {
     "data": {
      "image/png": "[encoded data removed]",
      "text/plain": [
       "<Figure size 432x288 with 1 Axes>"
      ]
     },
     "metadata": {
      "needs_background": "light"
     },
     "output_type": "display_data"
    }
   ],
   "source": [
    "error = pd.DataFrame(error)\n",
    "error.plot(title='Error per Iteration')"
   ]
  },
  {
   "cell_type": "markdown",
   "metadata": {},
   "source": [
    "The training error and the testing error per iteration for the class 'CYT' were shown in the plot above."
   ]
  },
  {
   "cell_type": "markdown",
   "metadata": {},
   "source": [
    "### P3. Re-train the ANN with all the data"
   ]
  },
  {
   "cell_type": "markdown",
   "metadata": {},
   "source": [
    "The ANN model was retrained with all the data. The training error was shown as below."
   ]
  },
  {
   "cell_type": "code",
   "execution_count": 11,
   "metadata": {},
   "outputs": [],
   "source": [
    "X_all = yeast.loc[:,1:8].values\n",
    "y_all = yeast.loc[:,9].values\n",
    "\n",
    "ec2 = LabelEncoder()\n",
    "y_all = ec2.fit_transform(y_all)\n",
    "dummy_y_all = to_categorical(y_all)\n",
    "\n",
    "sc2 = StandardScaler()\n",
    "sc2.fit(X_all)\n",
    "X_all = sc2.transform(X_all)"
   ]
  },
  {
   "cell_type": "code",
   "execution_count": 12,
   "metadata": {},
   "outputs": [],
   "source": [
    "model = Sequential()\n",
    "model.add(Dense(3, input_dim = 8, activation = 'sigmoid'))\n",
    "model.add(Dense(3, activation = 'sigmoid'))\n",
    "model.add(Dense(10, activation = 'sigmoid'))\n",
    "sgd = optimizers.SGD(lr = 0.033)\n",
    "model.compile(loss = 'mean_squared_error', optimizer = 'sgd', metrics = ['accuracy'])"
   ]
  },
  {
   "cell_type": "code",
   "execution_count": 85,
   "metadata": {},
   "outputs": [
    {
     "data": {
      "text/plain": [
       "<keras.callbacks.callbacks.History at 0x1aa1e7fd390>"
      ]
     },
     "execution_count": 85,
     "metadata": {},
     "output_type": "execute_result"
    }
   ],
   "source": [
    "model.fit(X_all, dummy_y_all, epochs = 500, verbose = 0)"
   ]
  },
  {
   "cell_type": "code",
   "execution_count": 15,
   "metadata": {},
   "outputs": [],
   "source": [
    "weight = model.layers[2].get_weights()"
   ]
  },
  {
   "cell_type": "code",
   "execution_count": 16,
   "metadata": {},
   "outputs": [],
   "source": [
    "w1, w2, w3, = list(weight[0][:,0])\n",
    "bias = weight[1][0]\n",
    "w = {'w0':bias,'w1':w1,'w2':w2,'w3':w3}"
   ]
  },
  {
   "cell_type": "code",
   "execution_count": 17,
   "metadata": {},
   "outputs": [],
   "source": [
    "w = pd.Series(w)"
   ]
  },
  {
   "cell_type": "code",
   "execution_count": 22,
   "metadata": {},
   "outputs": [
    {
     "data": {
      "text/plain": [
       "0.6880053908355794"
      ]
     },
     "execution_count": 22,
     "metadata": {},
     "output_type": "execute_result"
    }
   ],
   "source": [
    "pred = model.predict(X_all).argmax(axis=1)\n",
    "true = dummy_y_all.argmax(axis=1)\n",
    "\n",
    "calc_error(true, pred)        "
   ]
  },
  {
   "cell_type": "markdown",
   "metadata": {},
   "source": [
    "The training error for the 'CYT' class is 0.6880053908355794."
   ]
  },
  {
   "cell_type": "code",
   "execution_count": 23,
   "metadata": {},
   "outputs": [
    {
     "data": {
      "text/plain": [
       "w0   -0.490667\n",
       "w1    0.011950\n",
       "w2   -0.082615\n",
       "w3   -0.347769\n",
       "dtype: float64"
      ]
     },
     "execution_count": 23,
     "metadata": {},
     "output_type": "execute_result"
    }
   ],
   "source": [
    "w"
   ]
  },
  {
   "cell_type": "markdown",
   "metadata": {},
   "source": [
    "$z_1^{(4)} = w_{10}^{(3)}*a_0^{(3)} + w_{11}^{(3)}*a_1^{(3)} + w_{12}^{(3)}*a_2^{(3)} + w_{13}^{(3)}*a_3^{(3)}$\n",
    "\n",
    "$a_1^{(4)} = \\frac{1}{1+exp(-z_1^{(4)})}$\n"
   ]
  },
  {
   "cell_type": "markdown",
   "metadata": {},
   "source": [
    "Sigmoid function was used in the model. The final activation function formula for class 'CYT' was shown above."
   ]
  },
  {
   "cell_type": "markdown",
   "metadata": {},
   "source": [
    "### P4. Calculate the weight"
   ]
  },
  {
   "cell_type": "code",
   "execution_count": 86,
   "metadata": {},
   "outputs": [],
   "source": [
    "X_all = yeast.loc[:,1:8].values\n",
    "y_all = yeast.loc[:,9].values\n",
    "\n",
    "ec2 = LabelEncoder()\n",
    "y_all = ec2.fit_transform(y_all)\n",
    "dummy_y_all = to_categorical(y_all)"
   ]
  },
  {
   "cell_type": "code",
   "execution_count": 677,
   "metadata": {},
   "outputs": [],
   "source": [
    "def my_init(shape, dtype = None):\n",
    "    init = np.zeros(shape)\n",
    "    init[:,0] = 1\n",
    "    return init\n",
    "\n",
    "def my_init2(shape, dtype = None):\n",
    "    init = np.zeros(shape)\n",
    "    init[0] = 1\n",
    "    return init"
   ]
  },
  {
   "cell_type": "markdown",
   "metadata": {},
   "source": [
    "A 4 layers(2 hidden layers, 3 nodes per hidden layer) ANN was built. The first sample was used to train the model. The initial weights and bias were shown as below. "
   ]
  },
  {
   "cell_type": "code",
   "execution_count": 692,
   "metadata": {},
   "outputs": [
    {
     "data": {
      "text/plain": [
       "[array([[0., 0., 0.],\n",
       "        [0., 0., 0.],\n",
       "        [0., 0., 0.],\n",
       "        [0., 0., 0.],\n",
       "        [0., 0., 0.],\n",
       "        [0., 0., 0.],\n",
       "        [0., 0., 0.],\n",
       "        [0., 0., 0.]], dtype=float32),\n",
       " array([0., 0., 0.], dtype=float32),\n",
       " array([[1., 0., 0.],\n",
       "        [1., 0., 0.],\n",
       "        [1., 0., 0.]], dtype=float32),\n",
       " array([1., 0., 0.], dtype=float32),\n",
       " array([[1., 0., 0., 0., 0., 0., 0., 0., 0., 0.],\n",
       "        [1., 0., 0., 0., 0., 0., 0., 0., 0., 0.],\n",
       "        [1., 0., 0., 0., 0., 0., 0., 0., 0., 0.]], dtype=float32),\n",
       " array([1., 0., 0., 0., 0., 0., 0., 0., 0., 0.], dtype=float32)]"
      ]
     },
     "execution_count": 692,
     "metadata": {},
     "output_type": "execute_result"
    }
   ],
   "source": [
    "model = Sequential()\n",
    "model.add(Dense(3, input_dim = 8, activation = 'sigmoid', kernel_initializer = 'zeros'))\n",
    "model.add(Dense(3, activation = 'sigmoid', kernel_initializer = my_init, bias_initializer=my_init2))\n",
    "model.add(Dense(10, activation = 'sigmoid', kernel_initializer = my_init, bias_initializer=my_init2))\n",
    "#sgd = optimizers.SGD(lr = 0.033)\n",
    "model.compile(loss = 'mean_squared_error', optimizer = 'sgd', metrics = ['accuracy'])\n",
    "#model.fit(X_all[0], dummy_y_all[0], epochs = 1)\n",
    "\n",
    "model.get_weights()"
   ]
  },
  {
   "cell_type": "code",
   "execution_count": 718,
   "metadata": {},
   "outputs": [
    {
     "data": {
      "text/plain": [
       "<keras.callbacks.callbacks.History at 0x20085a4d978>"
      ]
     },
     "execution_count": 718,
     "metadata": {},
     "output_type": "execute_result"
    }
   ],
   "source": [
    "model.fit(X_all[0:1], dummy_y_all[0:1], epochs = 1, verbose=0)"
   ]
  },
  {
   "cell_type": "markdown",
   "metadata": {},
   "source": [
    "After the first round of weight updates with back-propagation, the new weights and bias produced by the code were shown as below."
   ]
  },
  {
   "cell_type": "code",
   "execution_count": 694,
   "metadata": {},
   "outputs": [
    {
     "data": {
      "text/plain": [
       "[array([[-9.3333136e-07, -9.3333136e-07, -9.3333136e-07],\n",
       "        [-9.8160717e-07, -9.8160717e-07, -9.8160717e-07],\n",
       "        [-7.5632028e-07, -7.5632028e-07, -7.5632028e-07],\n",
       "        [-2.0919497e-07, -2.0919497e-07, -2.0919497e-07],\n",
       "        [-8.0459603e-07, -8.0459603e-07, -8.0459603e-07],\n",
       "        [ 0.0000000e+00,  0.0000000e+00,  0.0000000e+00],\n",
       "        [-7.7241214e-07, -7.7241214e-07, -7.7241214e-07],\n",
       "        [-3.5402226e-07, -3.5402226e-07, -3.5402226e-07]], dtype=float32),\n",
       " array([-1.609192e-06, -1.609192e-06, -1.609192e-06], dtype=float32),\n",
       " array([[ 9.9999678e-01, -1.1477225e-05, -1.1477225e-05],\n",
       "        [ 9.9999678e-01, -1.1477225e-05, -1.1477225e-05],\n",
       "        [ 9.9999678e-01, -1.1477225e-05, -1.1477225e-05]], dtype=float32),\n",
       " array([ 9.9999356e-01, -2.2954449e-05, -2.2954449e-05], dtype=float32),\n",
       " array([[ 9.9991512e-01, -2.3103546e-04, -2.3103546e-04, -2.3103546e-04,\n",
       "         -2.3103546e-04, -2.3103546e-04,  2.3103546e-04, -2.3103546e-04,\n",
       "         -2.3103546e-04, -2.3103546e-04],\n",
       "        [ 9.9995410e-01, -1.2500001e-04, -1.2500001e-04, -1.2500001e-04,\n",
       "         -1.2500001e-04, -1.2500001e-04,  1.2500001e-04, -1.2500001e-04,\n",
       "         -1.2500001e-04, -1.2500001e-04],\n",
       "        [ 9.9995410e-01, -1.2500001e-04, -1.2500001e-04, -1.2500001e-04,\n",
       "         -1.2500001e-04, -1.2500001e-04,  1.2500001e-04, -1.2500001e-04,\n",
       "         -1.2500001e-04, -1.2500001e-04]], dtype=float32),\n",
       " array([ 9.999082e-01, -2.500000e-04, -2.500000e-04, -2.500000e-04,\n",
       "        -2.500000e-04, -2.500000e-04,  2.500000e-04, -2.500000e-04,\n",
       "        -2.500000e-04, -2.500000e-04], dtype=float32)]"
      ]
     },
     "execution_count": 694,
     "metadata": {},
     "output_type": "execute_result"
    }
   ],
   "source": [
    "model.get_weights()"
   ]
  },
  {
   "cell_type": "markdown",
   "metadata": {},
   "source": [
    "The calculation of weights and bias were shown as below."
   ]
  },
  {
   "cell_type": "markdown",
   "metadata": {},
   "source": [
    "**For the 1st hidden layer:**\n",
    "\n",
    "$z_i^{(2)} = 0$, for i = 1, 2,3\n",
    "\n",
    "$a_i^{(2)} = \\frac{1}{1+exp(-z_i^{(2)})} = 1/2$, for i = 1,2,3\n",
    "\n",
    "**For the 2nd hidden layer:**\n",
    "\n",
    "$\\begin{align*}\n",
    "z_1^{(3)} &= 1a_0^{(2)} + 1a_1^{(2)} + 1a_2^{(2)} + 1a_3^{(2)}\\\\\n",
    "       &= 1+3*1/2 = 2.5\\\\\n",
    "a_1^{(3)} &= \\frac{1}{1+exp(-z_1^{(3)})} \\\\       \n",
    "       &= \\frac{1}{1+exp(-2.5)} \\\\        \n",
    "       &= 0.9241418199787566\n",
    "\\end{align*}$   \n",
    "\n",
    "$z_i^{(3)} = 0$,for i = 2,3 \\\\\n",
    "\n",
    "$a_i^{(3)} = \\frac{1}{1+exp(-z_i^{(3)})} = 1/2, for i = 2,3$\n",
    "\n",
    "\n",
    "\n",
    "\n",
    "**For the output layer:**\n",
    "\n",
    "$\\begin{align*}\n",
    "z_1^{(4)} &= 1*a_0^{(3)} + 1*a_1^{(3)} + 1*a_2^{(3)} + 1*a_3^{(3)} \\\\\n",
    "       &= 1+ 0.07585818002124355 + 2*1/2 \\\\\n",
    "       &= 2.9241418199787566 \\\\\n",
    "a_1^{(4)} &= \\frac{1}{1+exp(-z_1^{(4)})} \\\\\n",
    "       &= \\frac{1}{1+exp(-2.9241418199787566)} \\\\\n",
    "       &= 0.949027031518282\n",
    "\\end{align*}$ \n",
    "\n",
    "$z_i^{(4)} = 0$, for i = 2,3,...,10\n",
    "\n",
    "$a_i^{(4)} = \\frac{1}{1+exp(-z_i^{(4)})} = 1/2$, for i = 2,3,...,10\n",
    "\n",
    "**The first round of weight updates:**\n",
    "\n",
    "**(1) Output to 2nd hidden layer:**\n",
    "\n",
    "$\\delta_k^{(l)} = 2/10 * (y_k - a_k^{(l)}) * a_k^{(l)} * (1-a_k^{(l)})$\n",
    "\n",
    "$w_{kj}^{(l-1)} = w_{kj}^{(l-1)} + \\alpha * \\delta_k^{(l)} * a_j^{(l-1)}$\n",
    "\n",
    "here $\\alpha = 0.01$\n",
    "\n",
    "$\\begin{align*}\n",
    "\\delta_1^{(4)} &= 2/10 * (y_1 - a_1^{(4)}) * a_1^{(4)} * (1-a_1^{(4)}) \\\\\n",
    "          &= 1/5 * (0-0.949027031518282)*0.949027031518282 * (1-0.949027031518282) \\\\\n",
    "          &= -0.009181784326976436\n",
    "\\end{align*}$ \n",
    "\n",
    "$\\begin{align*}\n",
    "w_{11}^{(3)} &= w_{11}^{(3)} + 0.01 * (-0.009181784326976436) * 0.9241418199787566 \\\\\n",
    "         &= 1+(-8.485270878584425e-05) \\\\\n",
    "         &= 0.9999151472912141 \\\\\n",
    "w_{1k}^{(3)} &= w_{1k}^{(3)} + 0.01 * (-0.009181784326976436) * 1/2 \\\\\n",
    "         &= 1+(-4.5908921634882176e-05) \\\\\n",
    "         &= 0.9999540910783651\n",
    "\\end{align*}$ \n",
    "\n",
    "for k = 2,3\n",
    "\n",
    "$\\begin{align*}\n",
    "w_{10}^{(3)} &= w_{10}^{(3)} + \\alpha * \\delta_1^{(4)} \\\\\n",
    "         &= 1 + 0.01 * (-0.009181784326976436) \\\\\n",
    "         &= 0.9999081821567303\n",
    "\\end{align*}$          \n",
    "\n",
    "**(2) 2nd layer to 1st hidden layer:**\n",
    "\n",
    "$\\begin{align*}\n",
    "\\delta_1^{(3)} &= \\delta_k^{(4)} * w_{kj}^{(l-1)} * a_j^{(3)} * (1-a_j^{(3)}) \\\\\n",
    "          &= -0.009181784326976436 * 0.9999151472912141 * \\\\\n",
    "          &\\qquad 0.9241418199787566 * (1-0.9241418199787566) \\\\\n",
    "          &= -0.0006436225880821729\n",
    "\\end{align*}$           \n",
    "\n",
    "$\\begin{align*}\n",
    "w_{1i}^{(2)} &= w_{1i}^{(2)} + \\delta_1^{(3)} * a_i^{(2)} \\\\\n",
    "         &= 1 - 0.0006436225880821729 * 1/2 \\\\\n",
    "         &= 0.9996781887059589\n",
    "\\end{align*}$           \n",
    ", for i = 1,2,3\n",
    "\n",
    "$\\begin{align*}\n",
    "w_{10}^{(2)} &= w_{10}^{(2)} + \\alpha * \\delta_1^{(3)} \\\\\n",
    "         &= 1 + 0.01 * (-0.0006436225880821729) \\\\\n",
    "         &= 0.9999935637741192\n",
    "\\end{align*}$ "
   ]
  },
  {
   "cell_type": "markdown",
   "metadata": {},
   "source": [
    "It can be seen that the code output are the same with my calculation.  "
   ]
  },
  {
   "cell_type": "markdown",
   "metadata": {},
   "source": [
    "### P5. Parameter sweep"
   ]
  },
  {
   "cell_type": "code",
   "execution_count": 26,
   "metadata": {},
   "outputs": [],
   "source": [
    "para = []\n",
    "for node in [3,6,9,12]:\n",
    "    for layer in [1,2,3]:\n",
    "        model = Sequential()\n",
    "        model.add(Dense(node, input_dim = 8, activation = 'sigmoid'))\n",
    "        for i in range(layer-1):\n",
    "            model.add(Dense(node, activation = 'sigmoid'))\n",
    "        model.add(Dense(10, activation = 'sigmoid'))\n",
    "        sgd = optimizers.SGD(lr = 0.035)\n",
    "        model.compile(loss = 'mean_squared_error', optimizer = 'sgd')\n",
    "        model.fit(X_train, y_train, epochs = 400, verbose = 0)\n",
    "\n",
    "        true_test = y_test.argmax(axis=1)\n",
    "        pred_test = model.predict(X_test).argmax(axis=1)\n",
    "        \n",
    "        para.append(1-accuracy_score(true_test, pred_test))\n",
    "        "
   ]
  },
  {
   "cell_type": "code",
   "execution_count": 32,
   "metadata": {},
   "outputs": [
    {
     "data": {
      "text/html": [
       "<div>\n",
       "<style scoped>\n",
       "    .dataframe tbody tr th:only-of-type {\n",
       "        vertical-align: middle;\n",
       "    }\n",
       "\n",
       "    .dataframe tbody tr th {\n",
       "        vertical-align: top;\n",
       "    }\n",
       "\n",
       "    .dataframe thead th {\n",
       "        text-align: right;\n",
       "    }\n",
       "</style>\n",
       "<table border=\"1\" class=\"dataframe\">\n",
       "  <thead>\n",
       "    <tr style=\"text-align: right;\">\n",
       "      <th>Nodes in Each Layer</th>\n",
       "      <th>3</th>\n",
       "      <th>6</th>\n",
       "      <th>9</th>\n",
       "      <th>12</th>\n",
       "    </tr>\n",
       "    <tr>\n",
       "      <th>Hidden Layers</th>\n",
       "      <th></th>\n",
       "      <th></th>\n",
       "      <th></th>\n",
       "      <th></th>\n",
       "    </tr>\n",
       "  </thead>\n",
       "  <tbody>\n",
       "    <tr>\n",
       "      <th>1</th>\n",
       "      <td>0.696</td>\n",
       "      <td>0.672</td>\n",
       "      <td>0.662</td>\n",
       "      <td>0.642</td>\n",
       "    </tr>\n",
       "    <tr>\n",
       "      <th>2</th>\n",
       "      <td>0.676</td>\n",
       "      <td>0.696</td>\n",
       "      <td>0.710</td>\n",
       "      <td>0.702</td>\n",
       "    </tr>\n",
       "    <tr>\n",
       "      <th>3</th>\n",
       "      <td>0.702</td>\n",
       "      <td>0.702</td>\n",
       "      <td>0.702</td>\n",
       "      <td>0.702</td>\n",
       "    </tr>\n",
       "  </tbody>\n",
       "</table>\n",
       "</div>"
      ],
      "text/plain": [
       "Nodes in Each Layer     3      6      9      12\n",
       "Hidden Layers                                  \n",
       "1                    0.696  0.672  0.662  0.642\n",
       "2                    0.676  0.696  0.710  0.702\n",
       "3                    0.702  0.702  0.702  0.702"
      ]
     },
     "execution_count": 32,
     "metadata": {},
     "output_type": "execute_result"
    }
   ],
   "source": [
    "test_error = pd.DataFrame(np.array(para).reshape(4,3).T, columns=[3,6,9,12], \n",
    "                          index=[1,2,3])\n",
    "test_error.index.name = 'Hidden Layers'\n",
    "test_error.columns.name = 'Nodes in Each Layer'\n",
    "test_error"
   ]
  },
  {
   "cell_type": "markdown",
   "metadata": {},
   "source": [
    "The testing errors of different models were shown in the table above. The optimal configuration is one hidden layer and 12 nodes in the hidden layer. It can be seen that the testing error will increase as the number of hidden layers increase, when holding the number of nodes in each hidden layer as constant. The testing error will decrease or remain the same as the number of nodes in each hidden layers increase, when hoding the number of hidden layer be constant as constant. The generalization of testing error is around 0.7."
   ]
  },
  {
   "cell_type": "markdown",
   "metadata": {},
   "source": [
    "### P6. Classification a specific sample"
   ]
  },
  {
   "cell_type": "code",
   "execution_count": 18,
   "metadata": {},
   "outputs": [],
   "source": [
    "x0 = np.array([[0.52,0.47, 0.52,0.23,0.55, 0.03, 0.52, 0.39]])\n",
    "x0 = sc.transform(x0)"
   ]
  },
  {
   "cell_type": "code",
   "execution_count": 22,
   "metadata": {},
   "outputs": [
    {
     "data": {
      "text/plain": [
       "<keras.callbacks.callbacks.History at 0x2d7e6f0e978>"
      ]
     },
     "execution_count": 22,
     "metadata": {},
     "output_type": "execute_result"
    }
   ],
   "source": [
    "model = Sequential()\n",
    "model.add(Dense(12, input_dim = 8, activation = 'sigmoid'))\n",
    "model.add(Dense(10, activation = 'sigmoid'))\n",
    "sgd = optimizers.SGD(lr = 0.035)\n",
    "model.compile(loss = 'mean_squared_error', optimizer = 'sgd')\n",
    "model.fit(X_train, y_train, epochs = 400, verbose = 0)"
   ]
  },
  {
   "cell_type": "code",
   "execution_count": 23,
   "metadata": {},
   "outputs": [
    {
     "data": {
      "text/plain": [
       "array([[0.31260622, 0.09307843, 0.08654186, 0.09317377, 0.11318883,\n",
       "        0.16133937, 0.15956935, 0.35496342, 0.09122631, 0.09219179]],\n",
       "      dtype=float32)"
      ]
     },
     "execution_count": 23,
     "metadata": {},
     "output_type": "execute_result"
    }
   ],
   "source": [
    "model.predict(x0)"
   ]
  },
  {
   "cell_type": "code",
   "execution_count": 24,
   "metadata": {},
   "outputs": [
    {
     "data": {
      "text/plain": [
       "array([7], dtype=int64)"
      ]
     },
     "execution_count": 24,
     "metadata": {},
     "output_type": "execute_result"
    }
   ],
   "source": [
    "model.predict(x0).argmax(axis = 1)"
   ]
  },
  {
   "cell_type": "markdown",
   "metadata": {},
   "source": [
    "The model was constructed using the best configuration in the problem 5 (1 hidden layer with 12 nodes). The prediction of class is 'NUC'."
   ]
  },
  {
   "cell_type": "markdown",
   "metadata": {},
   "source": [
    "### P7. Change the activation function and the loss function"
   ]
  },
  {
   "cell_type": "markdown",
   "metadata": {},
   "source": [
    "The hidden layer activetion function was set to ReLU, the output layer activation was set to softmax, and the loss function was set to cross-entropy."
   ]
  },
  {
   "cell_type": "code",
   "execution_count": 102,
   "metadata": {},
   "outputs": [],
   "source": [
    "para = {'train':[], 'test':[]}\n",
    "his = {'train':[], 'test':[]}\n",
    "for node in [3,6,9,12]:\n",
    "    for layer in [1,2,3]:\n",
    "        #error = {'train':[], 'test':[]}\n",
    "        model = Sequential()\n",
    "        model.add(Dense(node, input_dim = 8, activation = 'relu'))\n",
    "        for i in range(layer-1):\n",
    "            model.add(Dense(node, activation = 'relu'))\n",
    "        model.add(Dense(10, activation = 'sigmoid'))\n",
    "        sgd = optimizers.SGD(lr = 0.033)\n",
    "        model.compile(loss = 'categorical_crossentropy', optimizer = 'sgd', metrics = ['acc'])\n",
    "        history = model.fit(X_train, y_train, epochs = 400, validation_data = (X_test,y_test), verbose = 0)\n",
    "        \n",
    "        para['train'].append(1-model.evaluate(X_train, y_train, verbose = 0)[1])\n",
    "        para['test'].append(1-model.evaluate(X_test, y_test, verbose = 0)[1])\n",
    "        \n",
    "        his['train'].append(list(map(lambda x: 1-x, history.history['acc'])))\n",
    "        his['test'].append(list(map(lambda x: 1-x, history.history['val_acc'])))\n",
    "        "
   ]
  },
  {
   "cell_type": "markdown",
   "metadata": {},
   "source": [
    "The training errors of different models were shown in the table below."
   ]
  },
  {
   "cell_type": "code",
   "execution_count": 113,
   "metadata": {},
   "outputs": [
    {
     "data": {
      "text/html": [
       "<div>\n",
       "<style scoped>\n",
       "    .dataframe tbody tr th:only-of-type {\n",
       "        vertical-align: middle;\n",
       "    }\n",
       "\n",
       "    .dataframe tbody tr th {\n",
       "        vertical-align: top;\n",
       "    }\n",
       "\n",
       "    .dataframe thead th {\n",
       "        text-align: right;\n",
       "    }\n",
       "</style>\n",
       "<table border=\"1\" class=\"dataframe\">\n",
       "  <thead>\n",
       "    <tr style=\"text-align: right;\">\n",
       "      <th>Nodes in Each Layer</th>\n",
       "      <th>3</th>\n",
       "      <th>6</th>\n",
       "      <th>9</th>\n",
       "      <th>12</th>\n",
       "    </tr>\n",
       "    <tr>\n",
       "      <th>Hidden Layers</th>\n",
       "      <th></th>\n",
       "      <th></th>\n",
       "      <th></th>\n",
       "      <th></th>\n",
       "    </tr>\n",
       "  </thead>\n",
       "  <tbody>\n",
       "    <tr>\n",
       "      <th>1</th>\n",
       "      <td>0.498452</td>\n",
       "      <td>0.410733</td>\n",
       "      <td>0.392157</td>\n",
       "      <td>0.392157</td>\n",
       "    </tr>\n",
       "    <tr>\n",
       "      <th>2</th>\n",
       "      <td>0.473684</td>\n",
       "      <td>0.459236</td>\n",
       "      <td>0.400413</td>\n",
       "      <td>0.378741</td>\n",
       "    </tr>\n",
       "    <tr>\n",
       "      <th>3</th>\n",
       "      <td>0.553148</td>\n",
       "      <td>0.441692</td>\n",
       "      <td>0.393189</td>\n",
       "      <td>0.381837</td>\n",
       "    </tr>\n",
       "  </tbody>\n",
       "</table>\n",
       "</div>"
      ],
      "text/plain": [
       "Nodes in Each Layer        3         6         9         12\n",
       "Hidden Layers                                              \n",
       "1                    0.498452  0.410733  0.392157  0.392157\n",
       "2                    0.473684  0.459236  0.400413  0.378741\n",
       "3                    0.553148  0.441692  0.393189  0.381837"
      ]
     },
     "execution_count": 113,
     "metadata": {},
     "output_type": "execute_result"
    }
   ],
   "source": [
    "train_error = pd.DataFrame(np.array(para['train']).reshape(4,3).T, columns=[3,6,9,12], \n",
    "                          index=[1,2,3])\n",
    "train_error.index.name = 'Hidden Layers'\n",
    "train_error.columns.name = 'Nodes in Each Layer'\n",
    "train_error"
   ]
  },
  {
   "cell_type": "markdown",
   "metadata": {},
   "source": [
    "The testing errors of different models were shown in the table below."
   ]
  },
  {
   "cell_type": "code",
   "execution_count": 114,
   "metadata": {},
   "outputs": [
    {
     "data": {
      "text/html": [
       "<div>\n",
       "<style scoped>\n",
       "    .dataframe tbody tr th:only-of-type {\n",
       "        vertical-align: middle;\n",
       "    }\n",
       "\n",
       "    .dataframe tbody tr th {\n",
       "        vertical-align: top;\n",
       "    }\n",
       "\n",
       "    .dataframe thead th {\n",
       "        text-align: right;\n",
       "    }\n",
       "</style>\n",
       "<table border=\"1\" class=\"dataframe\">\n",
       "  <thead>\n",
       "    <tr style=\"text-align: right;\">\n",
       "      <th>Nodes in Each Layer</th>\n",
       "      <th>3</th>\n",
       "      <th>6</th>\n",
       "      <th>9</th>\n",
       "      <th>12</th>\n",
       "    </tr>\n",
       "    <tr>\n",
       "      <th>Hidden Layers</th>\n",
       "      <th></th>\n",
       "      <th></th>\n",
       "      <th></th>\n",
       "      <th></th>\n",
       "    </tr>\n",
       "  </thead>\n",
       "  <tbody>\n",
       "    <tr>\n",
       "      <th>1</th>\n",
       "      <td>0.504</td>\n",
       "      <td>0.452</td>\n",
       "      <td>0.430</td>\n",
       "      <td>0.418</td>\n",
       "    </tr>\n",
       "    <tr>\n",
       "      <th>2</th>\n",
       "      <td>0.508</td>\n",
       "      <td>0.488</td>\n",
       "      <td>0.422</td>\n",
       "      <td>0.428</td>\n",
       "    </tr>\n",
       "    <tr>\n",
       "      <th>3</th>\n",
       "      <td>0.594</td>\n",
       "      <td>0.450</td>\n",
       "      <td>0.434</td>\n",
       "      <td>0.408</td>\n",
       "    </tr>\n",
       "  </tbody>\n",
       "</table>\n",
       "</div>"
      ],
      "text/plain": [
       "Nodes in Each Layer     3      6      9      12\n",
       "Hidden Layers                                  \n",
       "1                    0.504  0.452  0.430  0.418\n",
       "2                    0.508  0.488  0.422  0.428\n",
       "3                    0.594  0.450  0.434  0.408"
      ]
     },
     "execution_count": 114,
     "metadata": {},
     "output_type": "execute_result"
    }
   ],
   "source": [
    "test_error = pd.DataFrame(np.array(para['test']).reshape(4,3).T, columns=[3,6,9,12], \n",
    "                          index=[1,2,3])\n",
    "test_error.index.name = 'Hidden Layers'\n",
    "test_error.columns.name = 'Nodes in Each Layer'\n",
    "test_error"
   ]
  },
  {
   "cell_type": "markdown",
   "metadata": {},
   "source": [
    "It is shown that the model with 2 hidden layers, 12 nodes in each hidden layer has the lowest training error, and the model with 3 hidden layers, 12 nodes in each hidden layer has the lowest testing error.\n",
    "\n",
    "The plots of error per each iteration are shown as below. "
   ]
  },
  {
   "cell_type": "code",
   "execution_count": 115,
   "metadata": {},
   "outputs": [
    {
     "data": {
      "image/png": "[encoded data removed]",
      "text/plain": [
       "<Figure size 432x288 with 1 Axes>"
      ]
     },
     "metadata": {
      "needs_background": "light"
     },
     "output_type": "display_data"
    }
   ],
   "source": [
    "plt.plot(his['train'][10], label = 'train')\n",
    "plt.plot(his['test'][10], label = 'test')\n",
    "plt.title(('hidden layers: 2, nodes: 12'))\n",
    "plt.legend(loc = 'best')\n",
    "plt.show()"
   ]
  },
  {
   "cell_type": "code",
   "execution_count": 116,
   "metadata": {},
   "outputs": [
    {
     "data": {
      "image/png": "[encoded data removed]",
      "text/plain": [
       "<Figure size 432x288 with 1 Axes>"
      ]
     },
     "metadata": {
      "needs_background": "light"
     },
     "output_type": "display_data"
    }
   ],
   "source": [
    "plt.plot(his['train'][11], label = 'train')\n",
    "plt.plot(his['test'][11], label = 'test')\n",
    "plt.title(('hidden layers: 3, nodes: 12'))\n",
    "plt.legend(loc = 'best')\n",
    "plt.show()"
   ]
  },
  {
   "cell_type": "markdown",
   "metadata": {},
   "source": [
    "### P8. Uncertainty"
   ]
  },
  {
   "cell_type": "markdown",
   "metadata": {},
   "source": [
    "To quantify the uncertainty for each classification, I can get a roughly idea by using the output of the output layer. For the unknown sample in P6, the output of the 1st node is 0.31260622, the output the of 8th node is 0.35496342. We can say that it is actually hard to tell whether the class of this sample is 'CYT' or 'NUC', and the uncertainty for the prediction is about 0.65."
   ]
  }
 ],
 "metadata": {
  "kernelspec": {
   "display_name": "Python 3",
   "language": "python",
   "name": "python3"
  },
  "language_info": {
   "codemirror_mode": {
    "name": "ipython",
    "version": 3
   },
   "file_extension": ".py",
   "mimetype": "text/x-python",
   "name": "python",
   "nbconvert_exporter": "python",
   "pygments_lexer": "ipython3",
   "version": "3.7.3"
  }
 },
 "nbformat": 4,
 "nbformat_minor": 2
}
